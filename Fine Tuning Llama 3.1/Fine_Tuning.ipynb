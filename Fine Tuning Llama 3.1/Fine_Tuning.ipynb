{
 "cells": [
  {
   "cell_type": "markdown",
   "id": "5798b01f-1916-496f-86f4-f7254f47fdd4",
   "metadata": {},
   "source": [
    "**The Colab in which training is done:** https://colab.research.google.com/drive/1AVQCbNMMAyLSzsAtizBGtQvFTDzv9psd?usp=sharing\n",
    "\n",
    "**The Colab in which Testing is done:** https://drive.google.com/file/d/1VVcVh2g3zp4cYjBlFKWKHWB331EqHjd0/view?usp=drive_link"
   ]
  }
 ],
 "metadata": {
  "kernelspec": {
   "display_name": "Python (gpu_env)",
   "language": "python",
   "name": "gpu_env"
  },
  "language_info": {
   "codemirror_mode": {
    "name": "ipython",
    "version": 3
   },
   "file_extension": ".py",
   "mimetype": "text/x-python",
   "name": "python",
   "nbconvert_exporter": "python",
   "pygments_lexer": "ipython3",
   "version": "3.9.21"
  },
  "widgets": {
   "application/vnd.jupyter.widget-state+json": {
    "state": {},
    "version_major": 2,
    "version_minor": 0
   }
  }
 },
 "nbformat": 4,
 "nbformat_minor": 5
}
