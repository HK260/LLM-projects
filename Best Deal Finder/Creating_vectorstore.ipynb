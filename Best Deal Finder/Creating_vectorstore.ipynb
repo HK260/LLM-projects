{
 "cells": [
  {
   "cell_type": "code",
   "execution_count": 3,
   "id": "a29a3d7b-a420-4dee-aadd-b74d58b78f23",
   "metadata": {},
   "outputs": [],
   "source": [
    "# imports\n",
    "\n",
    "import os\n",
    "import re\n",
    "import math\n",
    "import json\n",
    "from tqdm import tqdm\n",
    "import random\n",
    "from dotenv import load_dotenv\n",
    "from huggingface_hub import login\n",
    "import numpy as np\n",
    "import pickle\n",
    "from sentence_transformers import SentenceTransformer\n",
    "from datasets import load_dataset\n",
    "import chromadb\n",
    "from items import Item\n",
    "import plotly.graph_objects as go"
   ]
  },
  {
   "cell_type": "code",
   "execution_count": 21,
   "id": "168257ea-93e6-4028-b611-8a7ad68318ed",
   "metadata": {},
   "outputs": [],
   "source": [
    "# environment\n",
    "\n",
    "load_dotenv(override=True)\n",
    "os.environ['HF_TOKEN'] = os.getenv('HF_TOKEN', 'your-key-if-not-using-env')\n",
    "DB = \"products_vectorstore\""
   ]
  },
  {
   "cell_type": "code",
   "execution_count": 23,
   "id": "9a9e78be-4c4b-45ac-afff-6079443df951",
   "metadata": {},
   "outputs": [
    {
     "name": "stderr",
     "output_type": "stream",
     "text": [
      "Note: Environment variable`HF_TOKEN` is set and is the current active token independently from the token you've just configured.\n"
     ]
    }
   ],
   "source": [
    "# Log in to HuggingFace\n",
    "\n",
    "hf_token = os.environ['HF_TOKEN']\n",
    "login(hf_token, add_to_git_credential=True)"
   ]
  },
  {
   "cell_type": "code",
   "execution_count": 7,
   "id": "115dc1b9-016b-4feb-8150-52771960edd7",
   "metadata": {},
   "outputs": [],
   "source": [
    "# Already trained in Smart Pricer project:\n",
    "\n",
    "with open('train.pkl', 'rb') as file:\n",
    "    train = pickle.load(file)"
   ]
  },
  {
   "cell_type": "code",
   "execution_count": 9,
   "id": "286cdce7-ea98-4eb5-b58b-8c080840bc2a",
   "metadata": {},
   "outputs": [
    {
     "data": {
      "text/plain": [
       "'How much does this cost to the nearest dollar?\\n\\nDelphi FG0166 Fuel Pump Module\\nDelphi brings 80 years of OE Heritage into each Delphi pump, ensuring quality and fitment for each Delphi part. Part is validated, tested and matched to the right vehicle application Delphi brings 80 years of OE Heritage into each Delphi assembly, ensuring quality and fitment for each Delphi part Always be sure to check and clean fuel tank to avoid unnecessary returns Rigorous OE-testing ensures the pump can withstand extreme temperatures Brand Delphi, Fit Type Vehicle Specific Fit, Dimensions LxWxH 19.7 x 7.7 x 5.1 inches, Weight 2.2 Pounds, Auto Part Position Unknown, Operation Mode Mechanical, Manufacturer Delphi, Model FUEL PUMP, Dimensions 19.7\\n\\nPrice is $227.00'"
      ]
     },
     "execution_count": 9,
     "metadata": {},
     "output_type": "execute_result"
    }
   ],
   "source": [
    "train[0].prompt"
   ]
  },
  {
   "cell_type": "code",
   "execution_count": 13,
   "id": "d8ca8cd3-650d-4f5d-b27b-e0dcec6fc8e0",
   "metadata": {},
   "outputs": [],
   "source": [
    "# Lets Create a chroma Datastore\n",
    "\n",
    "client = chromadb.PersistentClient(path=DB)"
   ]
  },
  {
   "cell_type": "code",
   "execution_count": 15,
   "id": "b23eddb2-b2d1-4a21-8798-bfb9c7b15dbd",
   "metadata": {},
   "outputs": [],
   "source": [
    "# Check if the collection exists and delete it if it does\n",
    "collection_name = \"products\"\n",
    "\n",
    "# For old versions of Chroma, use this line instead of the subsequent one\n",
    "# existing_collection_names = [collection.name for collection in client.list_collections()]\n",
    "existing_collection_names = client.list_collections()\n",
    "\n",
    "if collection_name in existing_collection_names:\n",
    "    client.delete_collection(collection_name)\n",
    "    print(f\"Deleted existing collection: {collection_name}\")\n",
    "\n",
    "collection = client.create_collection(collection_name)"
   ]
  },
  {
   "cell_type": "code",
   "execution_count": 27,
   "id": "d4dd3cfd-bdd6-4e73-8977-541a0132894b",
   "metadata": {},
   "outputs": [
    {
     "data": {
      "application/vnd.jupyter.widget-view+json": {
       "model_id": "26f9025c23dd4e2da154c16f8141b7ce",
       "version_major": 2,
       "version_minor": 0
      },
      "text/plain": [
       "modules.json:   0%|          | 0.00/349 [00:00<?, ?B/s]"
      ]
     },
     "metadata": {},
     "output_type": "display_data"
    },
    {
     "data": {
      "application/vnd.jupyter.widget-view+json": {
       "model_id": "a3bb09b03c934a36b228cab16ed961d7",
       "version_major": 2,
       "version_minor": 0
      },
      "text/plain": [
       "config_sentence_transformers.json:   0%|          | 0.00/116 [00:00<?, ?B/s]"
      ]
     },
     "metadata": {},
     "output_type": "display_data"
    },
    {
     "data": {
      "application/vnd.jupyter.widget-view+json": {
       "model_id": "84e98df3adeb4dc59fd21d804e5b5317",
       "version_major": 2,
       "version_minor": 0
      },
      "text/plain": [
       "README.md: 0.00B [00:00, ?B/s]"
      ]
     },
     "metadata": {},
     "output_type": "display_data"
    },
    {
     "data": {
      "application/vnd.jupyter.widget-view+json": {
       "model_id": "0237a65eaeb74f7d8df0f843f3e94dc7",
       "version_major": 2,
       "version_minor": 0
      },
      "text/plain": [
       "sentence_bert_config.json:   0%|          | 0.00/53.0 [00:00<?, ?B/s]"
      ]
     },
     "metadata": {},
     "output_type": "display_data"
    },
    {
     "data": {
      "application/vnd.jupyter.widget-view+json": {
       "model_id": "e1cb184a2e0243ce828779813ac2fe06",
       "version_major": 2,
       "version_minor": 0
      },
      "text/plain": [
       "config.json:   0%|          | 0.00/612 [00:00<?, ?B/s]"
      ]
     },
     "metadata": {},
     "output_type": "display_data"
    },
    {
     "data": {
      "application/vnd.jupyter.widget-view+json": {
       "model_id": "fcc38c07136e4bd58d46f2db4a8dea4b",
       "version_major": 2,
       "version_minor": 0
      },
      "text/plain": [
       "model.safetensors:   0%|          | 0.00/90.9M [00:00<?, ?B/s]"
      ]
     },
     "metadata": {},
     "output_type": "display_data"
    },
    {
     "data": {
      "application/vnd.jupyter.widget-view+json": {
       "model_id": "7052236657e74ccb91270192cb10c90e",
       "version_major": 2,
       "version_minor": 0
      },
      "text/plain": [
       "tokenizer_config.json:   0%|          | 0.00/350 [00:00<?, ?B/s]"
      ]
     },
     "metadata": {},
     "output_type": "display_data"
    },
    {
     "data": {
      "application/vnd.jupyter.widget-view+json": {
       "model_id": "1c7e49bb024a407cb36ed0487c373e89",
       "version_major": 2,
       "version_minor": 0
      },
      "text/plain": [
       "vocab.txt: 0.00B [00:00, ?B/s]"
      ]
     },
     "metadata": {},
     "output_type": "display_data"
    },
    {
     "data": {
      "application/vnd.jupyter.widget-view+json": {
       "model_id": "11b2201e43d2477eb66d7d93f6602077",
       "version_major": 2,
       "version_minor": 0
      },
      "text/plain": [
       "tokenizer.json: 0.00B [00:00, ?B/s]"
      ]
     },
     "metadata": {},
     "output_type": "display_data"
    },
    {
     "data": {
      "application/vnd.jupyter.widget-view+json": {
       "model_id": "0a59d152291749f195f5399e1d441b11",
       "version_major": 2,
       "version_minor": 0
      },
      "text/plain": [
       "special_tokens_map.json:   0%|          | 0.00/112 [00:00<?, ?B/s]"
      ]
     },
     "metadata": {},
     "output_type": "display_data"
    },
    {
     "data": {
      "application/vnd.jupyter.widget-view+json": {
       "model_id": "607593885f7d4a5dae1e3162e62a8a97",
       "version_major": 2,
       "version_minor": 0
      },
      "text/plain": [
       "config.json:   0%|          | 0.00/190 [00:00<?, ?B/s]"
      ]
     },
     "metadata": {},
     "output_type": "display_data"
    }
   ],
   "source": [
    "# The all-MiniLM is a very useful model from HuggingFace that maps sentences & paragraphs to a 384 dimensional dense vector space and is ideal for tasks like semantic search.\n",
    "\n",
    "model = SentenceTransformer('sentence-transformers/all-MiniLM-L6-v2')"
   ]
  },
  {
   "cell_type": "code",
   "execution_count": 28,
   "id": "313b2acb-3ff6-4a28-85f6-845dfeb408f5",
   "metadata": {},
   "outputs": [
    {
     "data": {
      "text/plain": [
       "array([-9.46716070e-02,  4.27619554e-02,  5.51620610e-02, -5.11038932e-04,\n",
       "        1.16203483e-02, -6.80130422e-02,  2.76405923e-02,  6.06974959e-02,\n",
       "        2.88530793e-02, -1.74127668e-02, -4.94346246e-02,  2.30993181e-02,\n",
       "       -1.28614483e-02, -4.31402661e-02,  2.17510145e-02,  4.26548496e-02,\n",
       "        5.10499962e-02, -7.79727325e-02, -1.23247221e-01,  3.67455408e-02,\n",
       "        4.54109861e-03,  9.47937891e-02, -5.53099066e-02,  1.70641504e-02,\n",
       "       -2.92872898e-02, -4.47124504e-02,  2.06784457e-02,  6.39320314e-02,\n",
       "        2.27427669e-02,  4.87789884e-02, -2.33496190e-03,  4.72859368e-02,\n",
       "       -2.86259241e-02,  2.30624415e-02,  2.45130546e-02,  3.95681746e-02,\n",
       "       -4.33176309e-02, -1.02316640e-01,  2.79877288e-03,  2.39304788e-02,\n",
       "        1.61556229e-02, -8.99080094e-03,  2.07255688e-02,  6.40122816e-02,\n",
       "        6.89179301e-02, -6.98360875e-02,  2.89759203e-03, -8.10988992e-02,\n",
       "        1.71122849e-02,  2.50654924e-03, -1.06529042e-01, -4.87733148e-02,\n",
       "       -1.67762004e-02, -2.28662919e-02,  1.14816643e-01,  4.87413220e-02,\n",
       "       -1.64962355e-02, -6.90832213e-02,  1.13612108e-01, -7.18485489e-02,\n",
       "       -9.01570618e-02,  3.94624112e-06, -8.66769031e-02, -4.05916609e-02,\n",
       "        3.71317342e-02, -1.77619066e-02, -5.57463840e-02, -4.57097627e-02,\n",
       "       -5.43141775e-02, -4.00611833e-02, -4.60228026e-02,  2.82194167e-02,\n",
       "       -2.33606398e-02,  1.44406222e-02, -1.52777284e-02, -4.34328802e-02,\n",
       "        6.81275055e-02,  8.21894780e-02,  7.83888623e-03, -2.85972897e-02,\n",
       "        6.14309534e-02, -4.92684990e-02,  3.27057345e-03, -2.72682458e-02,\n",
       "       -4.59346212e-02, -2.60167960e-02,  5.70649691e-02, -5.86454815e-04,\n",
       "       -4.37076949e-02, -2.47790711e-04, -8.73550549e-02,  3.48777063e-02,\n",
       "        1.39327142e-02, -1.60043593e-02,  2.86958236e-02, -9.48595405e-02,\n",
       "        9.40612927e-02,  5.92685901e-02, -8.65014195e-02,  1.45011455e-01,\n",
       "        2.35388074e-02,  3.43325213e-02,  2.51528545e-04,  7.15541244e-02,\n",
       "       -3.12182605e-02,  3.86665612e-02, -2.47745588e-02,  6.52674958e-02,\n",
       "       -8.28816742e-02, -2.80247461e-02,  9.34541412e-03, -7.85540137e-03,\n",
       "        5.30728176e-02,  2.96895187e-02,  3.27329859e-02,  4.94736806e-02,\n",
       "        2.52208542e-02,  4.67068702e-02,  5.03404215e-02, -7.23745078e-02,\n",
       "        2.54435707e-02, -3.67216915e-02,  1.27570014e-02,  1.46063846e-02,\n",
       "        2.11492069e-02, -5.56909889e-02, -9.18506645e-03, -5.63397453e-34,\n",
       "        9.58769545e-02,  5.94578162e-02,  5.11445105e-02,  3.36359739e-02,\n",
       "       -1.34414742e-02, -2.77202930e-02, -3.48436162e-02,  1.80352516e-02,\n",
       "       -2.53210124e-02,  6.73583988e-03,  5.47840409e-02, -3.60574014e-02,\n",
       "       -5.20869903e-02, -2.90345475e-02,  4.38961899e-03,  6.50023520e-02,\n",
       "        3.07485424e-02,  2.00220831e-02,  1.73046289e-03,  2.96724914e-03,\n",
       "        3.40959732e-03, -6.78145066e-02,  3.41304690e-02,  8.37867614e-03,\n",
       "        5.39904423e-02,  2.70389840e-02,  7.84120113e-02, -1.30136237e-01,\n",
       "        4.84649651e-02,  5.14179282e-02, -7.94678275e-03,  5.57889510e-03,\n",
       "       -5.31026199e-02,  3.81299146e-02, -3.05513050e-02, -7.69778565e-02,\n",
       "        1.20531730e-02, -4.08994034e-02, -8.69359225e-02,  6.38056248e-02,\n",
       "        1.68674458e-02,  1.68734347e-03,  6.28894493e-02, -1.67711228e-02,\n",
       "        2.15585642e-02,  7.10050692e-04,  2.81024934e-03, -8.89790617e-03,\n",
       "       -1.80887561e-02, -2.16216948e-02, -5.59150167e-02,  1.78774241e-02,\n",
       "       -9.27093998e-02,  7.27913482e-03, -1.27753541e-01, -4.86937761e-02,\n",
       "        1.45871900e-02, -1.62751786e-02,  6.75623119e-02,  3.87702323e-02,\n",
       "        7.23295510e-02,  9.14991498e-02, -9.65291634e-02,  4.84791882e-02,\n",
       "       -1.06274173e-01, -1.05043221e-02,  8.90350491e-02, -8.07525814e-02,\n",
       "        7.87082016e-02, -2.04917993e-02, -5.55080995e-02, -3.31532396e-02,\n",
       "       -2.14429758e-02,  4.94699888e-02, -7.05119744e-02,  6.63998723e-02,\n",
       "        7.39671588e-02, -2.70116841e-03,  1.62262209e-02, -3.98229137e-02,\n",
       "        5.94092943e-02, -7.14361435e-03, -3.33479755e-02,  2.30419654e-02,\n",
       "        1.87185910e-02, -6.15724809e-02, -8.55425373e-04, -1.05786644e-01,\n",
       "       -8.43619183e-02, -3.92993540e-02, -3.16447355e-02,  6.60644621e-02,\n",
       "        9.41816121e-02, -8.35983083e-02,  9.50882770e-03,  1.25502573e-34,\n",
       "        6.38198331e-02,  2.11370885e-02, -1.65899880e-02,  1.88641287e-02,\n",
       "       -5.57019375e-02,  1.82813057e-03, -1.37587227e-02,  8.16278830e-02,\n",
       "       -9.13297087e-02,  7.06855729e-02,  6.79991543e-02, -5.44535592e-02,\n",
       "        3.80394123e-02,  3.80507344e-03,  1.03689834e-01,  7.32826360e-04,\n",
       "        2.95661502e-02,  4.19424027e-02, -1.20444365e-01,  1.24932388e-02,\n",
       "       -5.53506427e-02,  1.75228715e-02, -2.28164680e-02, -5.79299666e-02,\n",
       "        9.42932628e-03, -5.42282918e-03, -3.94942705e-03,  2.82348972e-02,\n",
       "       -1.28066853e-01, -1.31305140e-02,  7.42957518e-02, -1.74529999e-02,\n",
       "       -9.72759426e-02,  8.25622492e-03,  2.06901040e-02, -5.29769901e-03,\n",
       "       -1.37696033e-02, -3.50973792e-02,  1.74977779e-02, -1.76232997e-02,\n",
       "       -6.50825351e-02, -3.84675227e-02, -8.76396894e-02,  3.21292169e-02,\n",
       "        2.55019008e-03, -2.09379289e-02,  5.55309653e-02,  2.57095862e-02,\n",
       "       -2.94735283e-02,  1.25047425e-02, -6.83466494e-02, -8.00624192e-02,\n",
       "       -1.46906106e-02,  1.03744566e-02, -8.51862803e-02, -1.10538900e-02,\n",
       "        2.14595832e-02,  4.08609584e-02,  3.31646763e-02, -2.76756976e-02,\n",
       "       -2.01877411e-02,  8.98877252e-03,  3.92048284e-02,  1.15103342e-01,\n",
       "        5.50440922e-02,  2.72754952e-02, -1.09526686e-01, -1.72623117e-02,\n",
       "        1.33437868e-02, -1.73702110e-02, -5.04370546e-03, -2.00292971e-02,\n",
       "        1.16672382e-01, -1.84322670e-02,  3.70627306e-02,  1.60885695e-02,\n",
       "        3.48830596e-02,  5.50574921e-02, -6.60800515e-03,  7.06828237e-02,\n",
       "        4.07849550e-02, -1.43314265e-02, -2.85437703e-03,  2.74251867e-02,\n",
       "       -4.26769219e-02,  1.26583185e-02,  3.34342867e-02,  1.62644647e-02,\n",
       "        1.19263381e-02, -2.92119328e-02,  2.73978561e-02,  3.44305001e-02,\n",
       "        2.52832305e-02,  3.07514686e-02,  3.22557464e-02, -1.74628543e-08,\n",
       "       -1.52690774e-02,  5.37676411e-03,  1.41246513e-01,  5.08366190e-02,\n",
       "        5.32256216e-02,  9.67938080e-02,  4.33674380e-02, -6.48309896e-03,\n",
       "        1.58603936e-02,  4.05630432e-02,  6.94984794e-02,  6.04905002e-02,\n",
       "       -6.26188889e-02, -3.96143757e-02,  1.10648848e-01,  1.67735834e-02,\n",
       "       -7.68695539e-03,  2.59615611e-02, -5.28792851e-02, -2.22318843e-02,\n",
       "        1.74596217e-02,  4.75339331e-02,  3.27674001e-02, -4.59685288e-02,\n",
       "        2.01770067e-02, -1.60875823e-02, -1.58613957e-02, -1.66657697e-02,\n",
       "       -3.05246841e-02, -3.87907401e-02, -1.27654755e-02,  6.57611191e-02,\n",
       "       -2.22503040e-02, -9.44992155e-03,  2.32080072e-02,  2.66037937e-02,\n",
       "        2.14204546e-02, -7.54581718e-03,  8.84752721e-02, -9.43513960e-02,\n",
       "       -5.74870668e-02, -7.77098238e-02,  1.95793342e-03, -1.50347287e-02,\n",
       "       -8.08495842e-03,  1.88217703e-02,  8.42510629e-03, -3.78591865e-02,\n",
       "        1.24534955e-02, -7.94995874e-02, -2.15790886e-02,  1.20276762e-02,\n",
       "        1.74870808e-02,  8.74479115e-02,  6.64091557e-02,  3.13736871e-02,\n",
       "       -1.00629013e-02,  2.07700934e-02, -5.20163402e-02, -8.91336147e-03,\n",
       "        1.48542285e-01, -2.51266453e-03,  9.93155688e-02,  2.34929491e-02],\n",
       "      dtype=float32)"
      ]
     },
     "execution_count": 28,
     "metadata": {},
     "output_type": "execute_result"
    }
   ],
   "source": [
    "# Pass in a list of texts, get back a numpy array of vectors\n",
    "\n",
    "vector = model.encode([\"Well hi there\"])[0]\n",
    "vector"
   ]
  },
  {
   "cell_type": "code",
   "execution_count": 31,
   "id": "6a3e8663-72e3-4893-a773-37e934beab59",
   "metadata": {},
   "outputs": [],
   "source": [
    "# Quick sidebar - a function to compare vectors\n",
    "\n",
    "import numpy as np\n",
    "def cosine_similarity(a, b):\n",
    "    return np.dot(a, b) / (np.linalg.norm(a) * np.linalg.norm(b))\n",
    "\n",
    "def how_similar(text1, text2):\n",
    "    vector1, vector2 = model.encode([text1, text2])\n",
    "    similarity = cosine_similarity(vector1, vector2)\n",
    "    print(f\"Similarity between {text1} and {text2} is {similarity*100:.1f}%\")"
   ]
  },
  {
   "cell_type": "code",
   "execution_count": 33,
   "id": "bb38fc31-db10-4dc8-b66a-bcc9c3534f7e",
   "metadata": {},
   "outputs": [
    {
     "name": "stdout",
     "output_type": "stream",
     "text": [
      "Similarity between Java and C++ is 50.7%\n",
      "Similarity between Java and mug is 25.8%\n",
      "Similarity between Cup of Java and mug is 49.3%\n"
     ]
    }
   ],
   "source": [
    "# And let's see how adding a few words to the context can change things up!\n",
    "\n",
    "how_similar(\"Java\", \"C++\")\n",
    "how_similar(\"Java\", \"mug\")\n",
    "how_similar(\"Cup of Java\", \"mug\")"
   ]
  },
  {
   "cell_type": "code",
   "execution_count": 35,
   "id": "bc293055-3862-43a2-ac15-fdb4155fc23f",
   "metadata": {},
   "outputs": [],
   "source": [
    "def description(item):\n",
    "    text = item.prompt.replace(\"How much does this cost to the nearest dollar?\\n\\n\", \"\")\n",
    "    return text.split(\"\\n\\nPrice is $\")[0]"
   ]
  },
  {
   "cell_type": "code",
   "execution_count": 37,
   "id": "a323add9-4161-477e-977f-aa4af56cdeec",
   "metadata": {},
   "outputs": [
    {
     "data": {
      "text/plain": [
       "'Delphi FG0166 Fuel Pump Module\\nDelphi brings 80 years of OE Heritage into each Delphi pump, ensuring quality and fitment for each Delphi part. Part is validated, tested and matched to the right vehicle application Delphi brings 80 years of OE Heritage into each Delphi assembly, ensuring quality and fitment for each Delphi part Always be sure to check and clean fuel tank to avoid unnecessary returns Rigorous OE-testing ensures the pump can withstand extreme temperatures Brand Delphi, Fit Type Vehicle Specific Fit, Dimensions LxWxH 19.7 x 7.7 x 5.1 inches, Weight 2.2 Pounds, Auto Part Position Unknown, Operation Mode Mechanical, Manufacturer Delphi, Model FUEL PUMP, Dimensions 19.7'"
      ]
     },
     "execution_count": 37,
     "metadata": {},
     "output_type": "execute_result"
    }
   ],
   "source": [
    "description(train[0])"
   ]
  },
  {
   "cell_type": "code",
   "execution_count": 39,
   "id": "dd513452-2c5a-4203-a436-d6c41fdb8d16",
   "metadata": {},
   "outputs": [
    {
     "name": "stderr",
     "output_type": "stream",
     "text": [
      "100%|████████████████████████████████████████████████████████████████████████████████| 400/400 [19:26<00:00,  2.92s/it]\n"
     ]
    }
   ],
   "source": [
    "# The next cell populates the 400,000 items in Chroma.\n",
    "\n",
    "NUMBER_OF_DOCUMENTS = len(train)\n",
    "\n",
    "# Uncomment if you'd rather not wait for the full 400,000\n",
    "# NUMBER_OF_DOCUMENTS = 20000\n",
    "\n",
    "for i in tqdm(range(0, NUMBER_OF_DOCUMENTS, 1000)):\n",
    "    documents = [description(item) for item in train[i: i+1000]]\n",
    "    vectors = model.encode(documents).astype(float).tolist()\n",
    "    metadatas = [{\"category\": item.category, \"price\": item.price} for item in train[i: i+1000]]\n",
    "    ids = [f\"doc_{j}\" for j in range(i, i+len(documents))]\n",
    "    collection.add(\n",
    "        ids=ids,\n",
    "        documents=documents,\n",
    "        embeddings=vectors,\n",
    "        metadatas=metadatas\n",
    "    )"
   ]
  }
 ],
 "metadata": {
  "kernelspec": {
   "display_name": "Python [conda env:llms]",
   "language": "python",
   "name": "conda-env-llms-py"
  },
  "language_info": {
   "codemirror_mode": {
    "name": "ipython",
    "version": 3
   },
   "file_extension": ".py",
   "mimetype": "text/x-python",
   "name": "python",
   "nbconvert_exporter": "python",
   "pygments_lexer": "ipython3",
   "version": "3.11.13"
  },
  "widgets": {
   "application/vnd.jupyter.widget-state+json": {
    "state": {},
    "version_major": 2,
    "version_minor": 0
   }
  }
 },
 "nbformat": 4,
 "nbformat_minor": 5
}
