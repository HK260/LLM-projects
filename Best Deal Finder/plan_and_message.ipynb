{
 "cells": [
  {
   "cell_type": "code",
   "execution_count": 1,
   "id": "a187b448-6b1f-4dd1-b6a9-51826a5f48c5",
   "metadata": {},
   "outputs": [],
   "source": [
    "from dotenv import load_dotenv\n",
    "from agents.messaging_agent import MessagingAgent"
   ]
  },
  {
   "cell_type": "code",
   "execution_count": 3,
   "id": "4f9fe7b5-ff32-49b0-9916-15e3d0b082da",
   "metadata": {},
   "outputs": [],
   "source": [
    "load_dotenv(override=True)\n",
    "DB = \"products_vectorstore\""
   ]
  },
  {
   "cell_type": "code",
   "execution_count": 5,
   "id": "ddf65513-50dc-4aab-a63a-44c1a4c8108e",
   "metadata": {},
   "outputs": [],
   "source": [
    "agent = MessagingAgent()"
   ]
  },
  {
   "cell_type": "code",
   "execution_count": 9,
   "id": "0f5df3ed-d62c-4ce3-acfb-498dc63a4a18",
   "metadata": {},
   "outputs": [],
   "source": [
    "agent.push(\"Hii\")"
   ]
  },
  {
   "cell_type": "code",
   "execution_count": 11,
   "id": "542a6efc-5bd6-4182-a80c-1c94e50d73d4",
   "metadata": {},
   "outputs": [],
   "source": [
    "import chromadb\n",
    "DB = \"products_vectorstore\"\n",
    "client = chromadb.PersistentClient(path=DB)\n",
    "collection = client.get_or_create_collection('products')\n",
    "from agents.planning_agent import PlanningAgent"
   ]
  },
  {
   "cell_type": "code",
   "execution_count": 12,
   "id": "973c680c-eeff-4825-8dfb-66700b47b649",
   "metadata": {},
   "outputs": [
    {
     "name": "stderr",
     "output_type": "stream",
     "text": [
      "C:\\Users\\ASUS\\anaconda3\\envs\\llms\\Lib\\site-packages\\sklearn\\base.py:440: InconsistentVersionWarning: Trying to unpickle estimator DecisionTreeRegressor from version 1.5.2 when using version 1.7.0. This might lead to breaking code or invalid results. Use at your own risk. For more info please refer to:\n",
      "https://scikit-learn.org/stable/model_persistence.html#security-maintainability-limitations\n",
      "  warnings.warn(\n",
      "C:\\Users\\ASUS\\anaconda3\\envs\\llms\\Lib\\site-packages\\sklearn\\base.py:440: InconsistentVersionWarning: Trying to unpickle estimator RandomForestRegressor from version 1.5.2 when using version 1.7.0. This might lead to breaking code or invalid results. Use at your own risk. For more info please refer to:\n",
      "https://scikit-learn.org/stable/model_persistence.html#security-maintainability-limitations\n",
      "  warnings.warn(\n"
     ]
    }
   ],
   "source": [
    "planner = PlanningAgent(collection)"
   ]
  },
  {
   "cell_type": "code",
   "execution_count": 17,
   "id": "604dc49e-66ca-4125-a34c-37561ca2c7da",
   "metadata": {},
   "outputs": [
    {
     "data": {
      "text/plain": [
       "Opportunity(deal=Deal(product_description='The Toshiba C350 Series 75C350LU is a 75-inch LED 4K UHD Smart Fire TV that delivers a stunning viewing experience with a native resolution of 3840x2160. It supports Dolby Vision and HDR 10, enhancing the color contrast and brightness in your visuals. The Fire TV OS integrates seamlessly with Alexa, allowing for voice control of your entertainment. With three HDMI inputs, connecting multiple devices is hassle-free, ensuring you can enjoy a variety of media effortlessly.', price=350.0, url='https://www.dealnews.com/products/Toshiba/Toshiba-C350-Series-75-C350-LU-75-LED-4-K-UHD-Smart-Fire-TV/475270.html?iref=rss-c142'), estimate=543.7450483518186, discount=193.74504835181858)"
      ]
     },
     "execution_count": 17,
     "metadata": {},
     "output_type": "execute_result"
    }
   ],
   "source": [
    "planner.plan()"
   ]
  },
  {
   "cell_type": "code",
   "execution_count": null,
   "id": "2dc39d7d-a6d7-47d6-b8b7-a460c55779dc",
   "metadata": {},
   "outputs": [],
   "source": []
  }
 ],
 "metadata": {
  "kernelspec": {
   "display_name": "Python [conda env:llms]",
   "language": "python",
   "name": "conda-env-llms-py"
  },
  "language_info": {
   "codemirror_mode": {
    "name": "ipython",
    "version": 3
   },
   "file_extension": ".py",
   "mimetype": "text/x-python",
   "name": "python",
   "nbconvert_exporter": "python",
   "pygments_lexer": "ipython3",
   "version": "3.11.13"
  },
  "widgets": {
   "application/vnd.jupyter.widget-state+json": {
    "state": {},
    "version_major": 2,
    "version_minor": 0
   }
  }
 },
 "nbformat": 4,
 "nbformat_minor": 5
}
