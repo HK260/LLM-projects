{
 "cells": [
  {
   "cell_type": "code",
   "execution_count": 1,
   "id": "f9ea7f14-96d6-4516-803f-209643d13cfd",
   "metadata": {},
   "outputs": [],
   "source": [
    "# imports\n",
    "\n",
    "import os\n",
    "import json\n",
    "from dotenv import load_dotenv\n",
    "from openai import OpenAI\n",
    "from agents.deals import ScrapedDeal, DealSelection"
   ]
  },
  {
   "cell_type": "code",
   "execution_count": 2,
   "id": "9063aaaf-a3f3-42bb-b9af-59219aa41b63",
   "metadata": {},
   "outputs": [
    {
     "name": "stderr",
     "output_type": "stream",
     "text": [
      "100%|████████████████████████████████████████████████████████████████████████████████████| 5/5 [03:27<00:00, 41.56s/it]\n"
     ]
    }
   ],
   "source": [
    "deals = ScrapedDeal.fetch(show_progress=True)"
   ]
  },
  {
   "cell_type": "code",
   "execution_count": 4,
   "id": "ef741ebf-6a37-47ed-8ea3-033821e5a043",
   "metadata": {},
   "outputs": [
    {
     "data": {
      "text/plain": [
       "50"
      ]
     },
     "execution_count": 4,
     "metadata": {},
     "output_type": "execute_result"
    }
   ],
   "source": [
    "len(deals)"
   ]
  },
  {
   "cell_type": "code",
   "execution_count": 5,
   "id": "48acc4e7-6dea-4ec3-b296-e0dd4f37bce0",
   "metadata": {},
   "outputs": [
    {
     "data": {
      "text/plain": [
       "\"Title: Refurb Tineco Floor ONE S6 Cordless Wet Dry Vacuum for $220 + free shipping w/ Prime\\nDetails: You' pay $499 for a new one at Amazon. A 1-year Allstate warranty applies. Buy Now at eBay\\nFeatures: Cleans wet and dry messes Advanced self-cleaning feature Dual-sided edge cleaning iLoop smart sensor technology Cordless convenience\\nURL: https://www.dealnews.com/Refurb-Tineco-Floor-ONE-S6-Cordless-Wet-Dry-Vacuum-for-220-free-shipping-w-Prime/21746705.html?iref=rss-c196\""
      ]
     },
     "execution_count": 5,
     "metadata": {},
     "output_type": "execute_result"
    }
   ],
   "source": [
    "deals[44].describe()"
   ]
  },
  {
   "cell_type": "code",
   "execution_count": 6,
   "id": "7fc5c275-97db-4ddc-9446-d7b4b47848fb",
   "metadata": {},
   "outputs": [],
   "source": [
    "system_prompt = \"\"\"You identify and summarize the 5 most detailed deals from a list, by selecting deals that have the most detailed, high quality description and the most clear price.\n",
    "Respond strictly in JSON with no explanation, using this format. You should provide the price as a number derived from the description. If the price of a deal isn't clear, do not include that deal in your response.\n",
    "Most important is that you respond with the 5 deals that have the most detailed product description with price. It's not important to mention the terms of the deal; most important is a thorough description of the product.\n",
    "Be careful with products that are described as \"$XXX off\" or \"reduced by $XXX\" - this isn't the actual price of the product. Only respond with products when you are highly confident about the price. \n",
    "\n",
    "{\"deals\": [\n",
    "    {\n",
    "        \"product_description\": \"Your clearly expressed summary of the product in 4-5 sentences. Details of the item are much more important than why it's a good deal. Avoid mentioning discounts and coupons; focus on the item itself. There should be a paragpraph of text for each item you choose.\",\n",
    "        \"price\": 99.99,\n",
    "        \"url\": \"the url as provided\"\n",
    "    },\n",
    "    ...\n",
    "]}\"\"\""
   ]
  },
  {
   "cell_type": "code",
   "execution_count": 7,
   "id": "110b0359-e808-4f7e-a27e-547e8fcafa08",
   "metadata": {},
   "outputs": [],
   "source": [
    "user_prompt = \"\"\"Respond with the most promising 5 deals from this list, selecting those which have the most detailed, high quality product description and a clear price.\n",
    "Respond strictly in JSON, and only JSON. You should rephrase the description to be a summary of the product itself, not the terms of the deal.\n",
    "Remember to respond with a paragraph of text in the product_description field for each of the 5 items that you select.\n",
    "Be careful with products that are described as \"$XXX off\" or \"reduced by $XXX\" - this isn't the actual price of the product. Only respond with products when you are highly confident about the price. \n",
    "\n",
    "Deals:\n",
    "\n",
    "\"\"\"\n",
    "user_prompt += '\\n\\n'.join([deal.describe() for deal in deals])"
   ]
  },
  {
   "cell_type": "code",
   "execution_count": 8,
   "id": "5f826435-bdf5-4f8f-8bc7-f6de8322835c",
   "metadata": {},
   "outputs": [
    {
     "name": "stdout",
     "output_type": "stream",
     "text": [
      "Respond with the most promising 5 deals from this list, selecting those which have the most detailed, high quality product description and a clear price.\n",
      "Respond strictly in JSON, and only JSON. You should rephrase the description to be a summary of the product itself, not the terms of the deal.\n",
      "Remember to respond with a paragraph of text in the product_description field for each of the 5 items that you select.\n",
      "Be careful with products that are described as \"$XXX off\" or \"reduced by $XXX\" - this isn't the actual price of the product. Only respond with products when you are highly confident about the price. \n",
      "\n",
      "Deals:\n",
      "\n",
      "Title: Refurb Unlocked Samsung Galaxy S22 Ultra 128GB 5G Android Phone for $293 + free shipping\n",
      "Details: It's the best price we've seen for this S22 Ultra model. You'd pay $47 more for a refurb today at Amazon. It comes with a 1-year Allstate warranty. Buy Now at eBay\n",
      "Features: \n",
      "URL: https://www.dealnews.com/products/Samsung/Samsung-Galaxy-S22-Ultra-128-GB-5-G-Android-Phone/477144.html?iref=rss-c142\n",
      "\n",
      "Title: Walmart Back to College Tech Deals: Up to 56% off + free shipping w/ $35\n",
      "Details: Shop discounted laptops, headphones, iPads, smart watches, and more. We've pictured the Apple AirPods 4 w/ Active Noise Cancellation for $120 ($59 off). Shipping adds $7, or get free shipping over $35. Shop Now at Walmart\n",
      "Features: \n",
      "URL: https://www.dealnews.com/Walmart-Back-to-College-Tech-Deals-Up-to-56-off-free-shipping-w-35/21754273.html?iref=rss-c142\n",
      "\n",
      "Title: Walmart Resold Flash Deals: Up to 65% off + free shipping w/ $35\n",
      "Details: These deals include savings on refurbished tools and electronics like laptops and phones. We've pictured the Refurb Unlocked Apple iPhone 15 Plus 128GB Smart Phone for $518 ($202 off). Shipping adds $7, or get free shipping on $35+. These restored products come with a 90-day free return warranty. Shop Now at Walmart\n",
      "Features: \n",
      "URL: https://www.dealnews.com/Walmart-Resold-Flash-Deals-Up-to-65-off-free-shipping-w-35/21754271.html?iref=rss-c\n"
     ]
    }
   ],
   "source": [
    "print(user_prompt[:2000])"
   ]
  },
  {
   "cell_type": "code",
   "execution_count": 26,
   "id": "7463aa13-5e20-453b-abb4-7ff727a4734b",
   "metadata": {},
   "outputs": [],
   "source": [
    "# Initialize and constants\n",
    "\n",
    "load_dotenv(override=True)\n",
    "GITHUB_TOKEN = os.getenv(\"GITHUB_TOKEN\")\n",
    "\n",
    "client = OpenAI(\n",
    "    api_key=GITHUB_TOKEN,\n",
    "    base_url=\"https://models.github.ai/inference\",\n",
    ")\n",
    "\n",
    "def get_recommendations():\n",
    "    completion = client.beta.chat.completions.parse(\n",
    "        model=\"openai/gpt-4o-mini\",\n",
    "        messages=[\n",
    "            {\"role\": \"system\", \"content\": system_prompt},\n",
    "            {\"role\": \"user\", \"content\": user_prompt}\n",
    "      ],\n",
    "        response_format=DealSelection\n",
    "    )\n",
    "    result = completion.choices[0].message.parsed\n",
    "    return result"
   ]
  },
  {
   "cell_type": "code",
   "execution_count": 28,
   "id": "7f125f29-8ee6-4bd3-9b5e-481f8785f9d5",
   "metadata": {},
   "outputs": [],
   "source": [
    "result = get_recommendations()"
   ]
  },
  {
   "cell_type": "code",
   "execution_count": 29,
   "id": "6abbc855-ed58-4ba5-b2ba-3cca66b89c68",
   "metadata": {},
   "outputs": [
    {
     "data": {
      "text/plain": [
       "5"
      ]
     },
     "execution_count": 29,
     "metadata": {},
     "output_type": "execute_result"
    }
   ],
   "source": [
    "len(result.deals)"
   ]
  },
  {
   "cell_type": "code",
   "execution_count": 30,
   "id": "8ae6e93b-f7c2-43c4-86e7-efe7df8e40c2",
   "metadata": {},
   "outputs": [
    {
     "data": {
      "text/plain": [
       "Deal(product_description='The bObsweep Dustin Wi-Fi Self-Emptying Robot Vacuum & Mop offers a high-tech cleaning experience, featuring a 70-day self-empty container, voice control via Alexa or Google Assistant, and customizable mapping capabilities. With three adjustable suction settings, it efficiently tackles various floor types, making it a versatile cleaning solution for busy households. The vacuum’s automated functions and smart technology simplify the cleaning process dramatically.', price=750.0, url='https://www.dealnews.com/products/bObsweep/bObsweep-Dustin-Wi-Fi-Self-Emptying-Robot-Vacuum-Mop/462410.html?iref=rss-f1912')"
      ]
     },
     "execution_count": 30,
     "metadata": {},
     "output_type": "execute_result"
    }
   ],
   "source": [
    "result.deals[1]"
   ]
  },
  {
   "cell_type": "code",
   "execution_count": 1,
   "id": "794e9b24-bb50-4e02-bd73-6cd39dabdab7",
   "metadata": {},
   "outputs": [],
   "source": [
    "from agents.scanner_agent import ScannerAgent"
   ]
  },
  {
   "cell_type": "code",
   "execution_count": 5,
   "id": "34692038-ed59-4293-99f5-0c510bfbe2c4",
   "metadata": {},
   "outputs": [],
   "source": [
    "agent = ScannerAgent()\n",
    "result = agent.scan()"
   ]
  },
  {
   "cell_type": "code",
   "execution_count": 6,
   "id": "694d490f-3756-4e43-9169-98b109027fde",
   "metadata": {},
   "outputs": [
    {
     "data": {
      "text/plain": [
       "DealSelection(deals=[Deal(product_description='The Refurb Unlocked Samsung Galaxy S22 Ultra is a top-of-the-line 5G Android phone featuring 128GB of storage. This model boasts impressive capabilities including a stunning display, advanced camera systems, and the flexibility of being unlocked for any carrier. It also comes with a 1-year warranty, ensuring quality and support for your purchase. Perfect for users looking to upgrade to a premium smartphone experience.', price=293.0, url='https://www.dealnews.com/products/Samsung/Samsung-Galaxy-S22-Ultra-128-GB-5-G-Android-Phone/477144.html?iref=rss-c142'), Deal(product_description='The Refurb Unlocked Apple iPhone 15 Plus offers an incredible user experience with 128GB of storage. It features state-of-the-art technology, a high-resolution camera, and seamless integration with iOS and your other Apple devices. This refurbished model comes with a 90-day warranty, providing peace of mind with your purchase. Ideal for Apple enthusiasts looking for a powerful phone at a competitive price point.', price=518.0, url='https://www.dealnews.com/Walmart-Resold-Flash-Deals-Up-to-65-off-free-shipping-w-35/21754271.html?iref=rss-c142'), Deal(product_description='The Open-Box Unlocked Apple iPhone 16 Pro is designed for those who demand the best in mobile technology. Packed with a 128GB storage capacity, this smartphone comes equipped with advanced camera features and superior performance capabilities. It also includes a 1-year warranty for added security in your investment. An ideal choice for anyone looking to stay on the cutting edge of mobile innovation.', price=821.0, url='https://www.dealnews.com/products/Apple/Unlocked-Apple-iPhone-16-Pro-128-GB-Smartphone/491744.html?iref=rss-c142'), Deal(product_description='The Samsung Galaxy Watch Ultra is an advanced 47mm LTE smartwatch that combines style and functionality. It features comprehensive health tracking, wireless connectivity, and a stunning display. This watch emphasizes user convenience with various smart features that sync seamlessly with your devices. Perfect for fitness enthusiasts or anyone wanting to stay connected on the go, it provides a perfect blend of technology and style.', price=500.0, url='https://www.dealnews.com/Samsung-Galaxy-Watch-Ultra-47-mm-LTE-Smartwatch-2025-50-off-up-to-250-off-w-trade-in-free-shipping/21754258.html?iref=rss-c142'), Deal(product_description='The Eco-Worthy 5.12kWh 48V 100AH Server Rack LiFePO4 Lithium Battery is designed for high-capacity energy storage. Specifically designed to fit standard 3U cabinets, this battery offers wireless connectivity, smart monitoring, and a robust 100A BMS for safety and efficiency. Ideal for home energy solutions or backup power systems, it represents a reliable energy source for various applications.', price=780.0, url='https://www.dealnews.com/Eco-Worthy-5-12-k-Wh-48-V-100-AH-Server-Rack-Li-Fe-PO4-Lithium-Battery-for-780-free-shipping/21753999.html?iref=rss-c142')])"
      ]
     },
     "execution_count": 6,
     "metadata": {},
     "output_type": "execute_result"
    }
   ],
   "source": [
    "result"
   ]
  },
  {
   "cell_type": "code",
   "execution_count": null,
   "id": "064c43b4-fc35-45b6-9d88-0a4b39ad8976",
   "metadata": {},
   "outputs": [],
   "source": []
  }
 ],
 "metadata": {
  "kernelspec": {
   "display_name": "Python [conda env:llms]",
   "language": "python",
   "name": "conda-env-llms-py"
  },
  "language_info": {
   "codemirror_mode": {
    "name": "ipython",
    "version": 3
   },
   "file_extension": ".py",
   "mimetype": "text/x-python",
   "name": "python",
   "nbconvert_exporter": "python",
   "pygments_lexer": "ipython3",
   "version": "3.11.13"
  },
  "widgets": {
   "application/vnd.jupyter.widget-state+json": {
    "state": {},
    "version_major": 2,
    "version_minor": 0
   }
  }
 },
 "nbformat": 4,
 "nbformat_minor": 5
}
