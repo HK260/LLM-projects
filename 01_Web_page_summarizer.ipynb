{
 "cells": [
  {
   "cell_type": "markdown",
   "id": "251f6c0e-4c2e-4bb8-82ef-4282540817c8",
   "metadata": {},
   "source": [
    "# 🌐 WebPage Summarizer\r\n",
    "\r\n",
    "**Overview**  \r\n",
    "This project is a WebPage Summarizer tool that extracts and condenses key information from any given web page. It utilizes cutting-edge open-source large language models to deliver accurate, concise, and context-aware summaries.\r\n",
    "\r\n",
    "---\r\n",
    "\r\n",
    "## 🔍 Models Used\r\n",
    "\r\n",
    "### 1. **LLaMA 3.2**  \r\n",
    "- A powerful and efficient large language model capable of understanding complex web content and producing high-quality natural language summaries.\r\n",
    "\r\n",
    "### 2. **DeepSeek R1:1.5B**  \r\n",
    "- A lightweight yet effective open-source LLM, optimized for faster inference and resource-constrained environments, while still providing meaningful summarization.\r\n",
    "\r\n",
    "---\r\n",
    "\r\n",
    "## ✨ Features\r\n",
    "- Extracts visible text from web pages.\r\n",
    "- Cleans and preprocesses content for LLM input.\r\n",
    "- Generat blogs, or documenta\r\n"
   ]
  },
  {
   "cell_type": "code",
   "execution_count": null,
   "id": "7c053ab9-4841-44a0-90aa-fcc604034341",
   "metadata": {},
   "outputs": [],
   "source": [
    "# %pip install selenium webdriver-manager "
   ]
  },
  {
   "cell_type": "code",
   "execution_count": 1,
   "id": "4e33be03-2e0b-4167-8392-d42910aa2587",
   "metadata": {},
   "outputs": [],
   "source": [
    "# ===========================\n",
    "# System & Environment\n",
    "# ===========================\n",
    "import os\n",
    "\n",
    "# ===========================\n",
    "# Web Scraping\n",
    "# ===========================\n",
    "import time\n",
    "from bs4 import BeautifulSoup\n",
    "from selenium import webdriver\n",
    "from selenium.webdriver.chrome.options import Options\n",
    "from selenium.webdriver.chrome.service import Service\n",
    "from webdriver_manager.chrome import ChromeDriverManager\n",
    "\n",
    "# ===========================\n",
    "# AI-related\n",
    "# ===========================\n",
    "import ipywidgets as widgets\n",
    "from IPython.display import display, clear_output\n",
    "from openai import OpenAI\n",
    "import ollama"
   ]
  },
  {
   "cell_type": "code",
   "execution_count": 2,
   "id": "406c53f5-0dd4-4d2f-a459-15c2ab707888",
   "metadata": {},
   "outputs": [],
   "source": [
    "model_OLLama=\"llama3.2\"\n",
    "model_deepseek=\"deepseek-r1:1.5b\""
   ]
  },
  {
   "cell_type": "markdown",
   "id": "78937b12-2e49-49b1-a383-630e63dd10d7",
   "metadata": {},
   "source": [
    "# 🌐 WebScrapping infrastructure"
   ]
  },
  {
   "cell_type": "code",
   "execution_count": 12,
   "id": "e02a00fb-f677-469b-97b8-0b26c4455350",
   "metadata": {},
   "outputs": [
    {
     "data": {
      "application/vnd.jupyter.widget-view+json": {
       "model_id": "8937c419318242c19913f472681055ba",
       "version_major": 2,
       "version_minor": 0
      },
      "text/plain": [
       "Text(value='https://www.nytimes.com/', description='🌐 URL:', layout=Layout(width='100%'), placeholder='Enter w…"
      ]
     },
     "metadata": {},
     "output_type": "display_data"
    },
    {
     "data": {
      "application/vnd.jupyter.widget-view+json": {
       "model_id": "9f811bfeff6942bcb1d1de726784bd5c",
       "version_major": 2,
       "version_minor": 0
      },
      "text/plain": [
       "Dropdown(description='🤖 Model:', options=(('LLaMA 3.2', 'llama3.2'), ('DeepSeek R1 (1.5B)', 'deepseek-r1:1.5b'…"
      ]
     },
     "metadata": {},
     "output_type": "display_data"
    },
    {
     "data": {
      "application/vnd.jupyter.widget-view+json": {
       "model_id": "7b45886fb69d4ad39ac0103257791f6c",
       "version_major": 2,
       "version_minor": 0
      },
      "text/plain": [
       "Button(button_style='success', description='🚀 Run Scraper & Summarizer', style=ButtonStyle())"
      ]
     },
     "metadata": {},
     "output_type": "display_data"
    },
    {
     "data": {
      "application/vnd.jupyter.widget-view+json": {
       "model_id": "c647026049ed40999b67c2c032425196",
       "version_major": 2,
       "version_minor": 0
      },
      "text/plain": [
       "Output()"
      ]
     },
     "metadata": {},
     "output_type": "display_data"
    }
   ],
   "source": [
    "import time\n",
    "from bs4 import BeautifulSoup\n",
    "from selenium import webdriver\n",
    "from selenium.webdriver.chrome.service import Service\n",
    "from selenium.webdriver.chrome.options import Options\n",
    "from webdriver_manager.chrome import ChromeDriverManager\n",
    "import ollama\n",
    "\n",
    "import ipywidgets as widgets\n",
    "from IPython.display import display, clear_output\n",
    "\n",
    "# --------------------------------\n",
    "# Define the DynamicWebScraper class\n",
    "# --------------------------------\n",
    "class DynamicWebScraper:\n",
    "    def __init__(self, url, model_name):\n",
    "        self.url = url\n",
    "        self.model = model_name  # 'llama3.2' or 'deepseek-r1:1.5b'\n",
    "        self.title = \"\"\n",
    "        self.text = \"\"\n",
    "        self.summary = \"\"\n",
    "        self.scrape()\n",
    "        self.generate_summary()\n",
    "        self.shutdown_model()\n",
    "\n",
    "    def scrape(self):\n",
    "        try:\n",
    "            chrome_options = Options()\n",
    "            chrome_options.add_argument(\"--headless\")\n",
    "            chrome_options.add_argument(\"--no-sandbox\")\n",
    "            chrome_options.add_argument(\"--disable-dev-shm-usage\")\n",
    "            chrome_options.add_argument(\"--disable-gpu\")\n",
    "            chrome_options.add_argument(\"--window-size=1920,1080\")\n",
    "            chrome_options.add_argument(\n",
    "                \"--user-agent=Mozilla/5.0 (Windows NT 10.0; Win64; x64) Chrome/120.0\"\n",
    "            )\n",
    "\n",
    "            driver = webdriver.Chrome(\n",
    "                service=Service(ChromeDriverManager().install()), options=chrome_options\n",
    "            )\n",
    "            driver.set_page_load_timeout(30)\n",
    "\n",
    "            print(f\"🔍 Loading: {self.url}\")\n",
    "            driver.get(self.url)\n",
    "            time.sleep(5)\n",
    "\n",
    "            self.title = driver.title\n",
    "            html = driver.page_source\n",
    "            driver.quit()\n",
    "            print(f\"✅ Page Loaded: {self.title}\")\n",
    "\n",
    "            soup = BeautifulSoup(html, \"html.parser\")\n",
    "            for tag in soup([\"script\", \"style\", \"img\", \"nav\", \"footer\", \"header\", \"input\", \"button\"]):\n",
    "                tag.decompose()\n",
    "\n",
    "            main = soup.find(\"main\") or soup.find(\"article\") or soup.body\n",
    "            raw_text = main.get_text(separator=\"\\n\", strip=True) if main else soup.get_text()\n",
    "\n",
    "            lines = [line.strip() for line in raw_text.split(\"\\n\") if line.strip()]\n",
    "            self.text = \"\\n\".join(lines[:200])\n",
    "            print(f\"📄 Extracted {len(self.text)} characters\")\n",
    "\n",
    "        except Exception as e:\n",
    "            print(f\"❌ Error: {e}\")\n",
    "            self.title = \"Error\"\n",
    "            self.text = \"Could not extract content.\"\n",
    "\n",
    "    def generate_summary(self):\n",
    "        try:\n",
    "            if len(self.text) < 100:\n",
    "                self.summary = \"Not enough content to summarize.\"\n",
    "                return\n",
    "\n",
    "            prompt = f\"Summarize the following webpage content:\\n\\n{self.text[:3000]}\"\n",
    "\n",
    "            print(f\"🤖 Summarizing using {self.model}...\")\n",
    "            response = ollama.chat(model=self.model, messages=[{\"role\": \"user\", \"content\": prompt}])\n",
    "            self.summary = response.get(\"message\", {}).get(\"content\", \"Summary not found.\")\n",
    "            print(f\"📌 Summary generated successfully.\")\n",
    "\n",
    "        except Exception as e:\n",
    "            print(f\"❌ Failed to summarize: {e}\")\n",
    "            self.summary = \"Summary generation failed.\"\n",
    "\n",
    "    def shutdown_model(self):\n",
    "        # Ollama handles model lifecycle automatically\n",
    "        # Models are automatically unloaded when not in use\n",
    "        print(f\"ℹ️ Model {self.model} session completed. Ollama will manage cleanup automatically.\")\n",
    "\n",
    "# --------------------------------\n",
    "# UI Widgets\n",
    "# --------------------------------\n",
    "url_input = widgets.Text(\n",
    "    value='https://www.nytimes.com/',\n",
    "    placeholder='Enter website URL',\n",
    "    description='🌐 URL:',\n",
    "    style={'description_width': 'initial'},\n",
    "    layout=widgets.Layout(width='100%')\n",
    ")\n",
    "\n",
    "model_selector = widgets.Dropdown(\n",
    "    options=[\n",
    "        ('LLaMA 3.2', 'llama3.2'),\n",
    "        ('DeepSeek R1 (1.5B)', 'deepseek-r1:1.5b')\n",
    "    ],\n",
    "    value='llama3.2',\n",
    "    description='🤖 Model:',\n",
    "    style={'description_width': 'initial'}\n",
    ")\n",
    "\n",
    "run_button = widgets.Button(\n",
    "    description='🚀 Run Scraper & Summarizer',\n",
    "    button_style='success'\n",
    ")\n",
    "\n",
    "output = widgets.Output()\n",
    "\n",
    "# --------------------------------\n",
    "# Callback Function\n",
    "# --------------------------------\n",
    "def run_scraper(button):\n",
    "    with output:\n",
    "        clear_output()\n",
    "\n",
    "        url = url_input.value.strip()\n",
    "        model = model_selector.value.strip()\n",
    "\n",
    "        if not url:\n",
    "            print(\"❌ Please enter a valid URL.\")\n",
    "            return\n",
    "\n",
    "        scraper = DynamicWebScraper(url, model)\n",
    "        print(\"\\n📰 Title:\", scraper.title)\n",
    "        print(\"🧠 Summary:\\n\", scraper.summary)\n",
    "\n",
    "# --------------------------------\n",
    "# Wire the Button\n",
    "# --------------------------------\n",
    "run_button.on_click(run_scraper)\n",
    "\n",
    "# --------------------------------\n",
    "# Display UI\n",
    "# --------------------------------\n",
    "display(url_input, model_selector, run_button, output)"
   ]
  },
  {
   "cell_type": "code",
   "execution_count": null,
   "id": "55d9658e-fc18-4ef5-98b1-83e97cc905af",
   "metadata": {},
   "outputs": [],
   "source": []
  }
 ],
 "metadata": {
  "kernelspec": {
   "display_name": "Python [conda env:llms]",
   "language": "python",
   "name": "conda-env-llms-py"
  },
  "language_info": {
   "codemirror_mode": {
    "name": "ipython",
    "version": 3
   },
   "file_extension": ".py",
   "mimetype": "text/x-python",
   "name": "python",
   "nbconvert_exporter": "python",
   "pygments_lexer": "ipython3",
   "version": "3.11.13"
  },
  "widgets": {
   "application/vnd.jupyter.widget-state+json": {
    "state": {
     "096c043e1d5b4902aa69fd49cc2b25f6": {
      "model_module": "@jupyter-widgets/controls",
      "model_module_version": "2.0.0",
      "model_name": "ButtonStyleModel",
      "state": {
       "font_family": null,
       "font_size": null,
       "font_style": null,
       "font_variant": null,
       "font_weight": null,
       "text_color": null,
       "text_decoration": null
      }
     },
     "1177c7a48b604beb85c025649a244f96": {
      "model_module": "@jupyter-widgets/controls",
      "model_module_version": "2.0.0",
      "model_name": "TextModel",
      "state": {
       "description": "🌐 URL:",
       "layout": "IPY_MODEL_2e78c6bf35674dcc9ecfe1f10d94c0ad",
       "placeholder": "Enter website URL",
       "style": "IPY_MODEL_5b04756cd0554d5eb277f78fa82db60b",
       "value": "https://www.nytimes.com/"
      }
     },
     "25902e6bc23b4b0d9f6c2c56b2509f5f": {
      "model_module": "@jupyter-widgets/controls",
      "model_module_version": "2.0.0",
      "model_name": "ButtonModel",
      "state": {
       "button_style": "success",
       "description": "🚀 Run Scraper & Summarizer",
       "layout": "IPY_MODEL_37725e6a69da412cbd0631fdd83a5b27",
       "style": "IPY_MODEL_b3037662cd8349e0acbe18a17b8e587d",
       "tooltip": null
      }
     },
     "2c597a01bc354f2488ffe9265fffbd22": {
      "model_module": "@jupyter-widgets/base",
      "model_module_version": "2.0.0",
      "model_name": "LayoutModel",
      "state": {
       "width": "100%"
      }
     },
     "2e78c6bf35674dcc9ecfe1f10d94c0ad": {
      "model_module": "@jupyter-widgets/base",
      "model_module_version": "2.0.0",
      "model_name": "LayoutModel",
      "state": {
       "width": "100%"
      }
     },
     "2f99a99183fe4d408933b04c4d7f724e": {
      "model_module": "@jupyter-widgets/controls",
      "model_module_version": "2.0.0",
      "model_name": "DropdownModel",
      "state": {
       "_options_labels": [
        "LLaMA 3.2",
        "DeepSeek R1 (1.5B)"
       ],
       "description": "🤖 Model:",
       "index": 1,
       "layout": "IPY_MODEL_b067de02020d471aae97beed855206b0",
       "style": "IPY_MODEL_ffef7ab1f60c4ad98191f14a736966a1"
      }
     },
     "352d018b5c63466384616f31f96caea4": {
      "model_module": "@jupyter-widgets/controls",
      "model_module_version": "2.0.0",
      "model_name": "TextModel",
      "state": {
       "description": "🌐 URL:",
       "layout": "IPY_MODEL_52feab21ea9f4ae788682022a7dd32a6",
       "placeholder": "Enter website URL",
       "style": "IPY_MODEL_4594055c4b9a4826979e128418b94b63",
       "value": "https://indiaai.gov.in/"
      }
     },
     "37725e6a69da412cbd0631fdd83a5b27": {
      "model_module": "@jupyter-widgets/base",
      "model_module_version": "2.0.0",
      "model_name": "LayoutModel",
      "state": {}
     },
     "3bee5bb4431e42cca9f15cb46aa13365": {
      "model_module": "@jupyter-widgets/base",
      "model_module_version": "2.0.0",
      "model_name": "LayoutModel",
      "state": {}
     },
     "420e7b2f8b104067995e43224ddec6d2": {
      "model_module": "@jupyter-widgets/controls",
      "model_module_version": "2.0.0",
      "model_name": "ButtonStyleModel",
      "state": {
       "font_family": null,
       "font_size": null,
       "font_style": null,
       "font_variant": null,
       "font_weight": null,
       "text_color": null,
       "text_decoration": null
      }
     },
     "456bfda2cfd347fba1bad8b38798290a": {
      "model_module": "@jupyter-widgets/controls",
      "model_module_version": "2.0.0",
      "model_name": "ButtonStyleModel",
      "state": {
       "font_family": null,
       "font_size": null,
       "font_style": null,
       "font_variant": null,
       "font_weight": null,
       "text_color": null,
       "text_decoration": null
      }
     },
     "4594055c4b9a4826979e128418b94b63": {
      "model_module": "@jupyter-widgets/controls",
      "model_module_version": "2.0.0",
      "model_name": "TextStyleModel",
      "state": {
       "description_width": "initial",
       "font_size": null,
       "text_color": null
      }
     },
     "50d9aadc1dcd4f0c98d6ac1b0ed2322c": {
      "model_module": "@jupyter-widgets/base",
      "model_module_version": "2.0.0",
      "model_name": "LayoutModel",
      "state": {}
     },
     "52feab21ea9f4ae788682022a7dd32a6": {
      "model_module": "@jupyter-widgets/base",
      "model_module_version": "2.0.0",
      "model_name": "LayoutModel",
      "state": {
       "width": "100%"
      }
     },
     "5b04756cd0554d5eb277f78fa82db60b": {
      "model_module": "@jupyter-widgets/controls",
      "model_module_version": "2.0.0",
      "model_name": "TextStyleModel",
      "state": {
       "description_width": "initial",
       "font_size": null,
       "text_color": null
      }
     },
     "5e30feb9ee0348d29748ce10effd3b58": {
      "model_module": "@jupyter-widgets/controls",
      "model_module_version": "2.0.0",
      "model_name": "TextModel",
      "state": {
       "description": "🌐 URL:",
       "layout": "IPY_MODEL_2c597a01bc354f2488ffe9265fffbd22",
       "placeholder": "Enter website URL",
       "style": "IPY_MODEL_db1f94b6095449b0ae342aef53b2202e",
       "value": "https://indiaai.gov.in/"
      }
     },
     "60711f07dff7400f83ff2a8dd35edef5": {
      "model_module": "@jupyter-widgets/controls",
      "model_module_version": "2.0.0",
      "model_name": "ButtonModel",
      "state": {
       "button_style": "success",
       "description": "🚀 Run Scraper & Summarizer",
       "layout": "IPY_MODEL_3bee5bb4431e42cca9f15cb46aa13365",
       "style": "IPY_MODEL_420e7b2f8b104067995e43224ddec6d2",
       "tooltip": null
      }
     },
     "61283fa011dd4c45a07b0715829e49ab": {
      "model_module": "@jupyter-widgets/base",
      "model_module_version": "2.0.0",
      "model_name": "LayoutModel",
      "state": {}
     },
     "6283202b4ff34a639e951f9d6d9eeda5": {
      "model_module": "@jupyter-widgets/controls",
      "model_module_version": "2.0.0",
      "model_name": "TextStyleModel",
      "state": {
       "description_width": "initial",
       "font_size": null,
       "text_color": null
      }
     },
     "66298f93732f4144a144b7bdb4e830d2": {
      "model_module": "@jupyter-widgets/base",
      "model_module_version": "2.0.0",
      "model_name": "LayoutModel",
      "state": {}
     },
     "677d8afa4b104d12910ae9dc5f1bf65c": {
      "model_module": "@jupyter-widgets/base",
      "model_module_version": "2.0.0",
      "model_name": "LayoutModel",
      "state": {
       "width": "100%"
      }
     },
     "6a732302055942e0af99890d7e01fcab": {
      "model_module": "@jupyter-widgets/controls",
      "model_module_version": "2.0.0",
      "model_name": "DropdownModel",
      "state": {
       "_options_labels": [
        "LLaMA 3.2",
        "DeepSeek R1 (1.5B)"
       ],
       "description": "🤖 Model:",
       "index": 0,
       "layout": "IPY_MODEL_7ea325e52df14548a28b6fa01b817aab",
       "style": "IPY_MODEL_82bdb7e431c149aaad3cebba46e7fee0"
      }
     },
     "7b45886fb69d4ad39ac0103257791f6c": {
      "model_module": "@jupyter-widgets/controls",
      "model_module_version": "2.0.0",
      "model_name": "ButtonModel",
      "state": {
       "button_style": "success",
       "description": "🚀 Run Scraper & Summarizer",
       "layout": "IPY_MODEL_66298f93732f4144a144b7bdb4e830d2",
       "style": "IPY_MODEL_096c043e1d5b4902aa69fd49cc2b25f6",
       "tooltip": null
      }
     },
     "7ea325e52df14548a28b6fa01b817aab": {
      "model_module": "@jupyter-widgets/base",
      "model_module_version": "2.0.0",
      "model_name": "LayoutModel",
      "state": {}
     },
     "82bdb7e431c149aaad3cebba46e7fee0": {
      "model_module": "@jupyter-widgets/controls",
      "model_module_version": "2.0.0",
      "model_name": "DescriptionStyleModel",
      "state": {
       "description_width": "initial"
      }
     },
     "8937c419318242c19913f472681055ba": {
      "model_module": "@jupyter-widgets/controls",
      "model_module_version": "2.0.0",
      "model_name": "TextModel",
      "state": {
       "description": "🌐 URL:",
       "layout": "IPY_MODEL_677d8afa4b104d12910ae9dc5f1bf65c",
       "placeholder": "Enter website URL",
       "style": "IPY_MODEL_6283202b4ff34a639e951f9d6d9eeda5",
       "value": "https://www.nytimes.com/"
      }
     },
     "9cf209a579ca4f949a0e72713dd38960": {
      "model_module": "@jupyter-widgets/base",
      "model_module_version": "2.0.0",
      "model_name": "LayoutModel",
      "state": {}
     },
     "9f811bfeff6942bcb1d1de726784bd5c": {
      "model_module": "@jupyter-widgets/controls",
      "model_module_version": "2.0.0",
      "model_name": "DropdownModel",
      "state": {
       "_options_labels": [
        "LLaMA 3.2",
        "DeepSeek R1 (1.5B)"
       ],
       "description": "🤖 Model:",
       "index": 0,
       "layout": "IPY_MODEL_aff1b83c18784d599cb697079ac632b1",
       "style": "IPY_MODEL_b6c30ad8a57a48f9814e1ec48313a0e3"
      }
     },
     "ad54f95169fe4c24bb3bcebc42394949": {
      "model_module": "@jupyter-widgets/output",
      "model_module_version": "1.0.0",
      "model_name": "OutputModel",
      "state": {
       "layout": "IPY_MODEL_9cf209a579ca4f949a0e72713dd38960",
       "outputs": [
        {
         "name": "stdout",
         "output_type": "stream",
         "text": "🔍 Loading: https://indiaai.gov.in/\n✅ Page Loaded: INDIAai | Pillars\n📄 Extracted 5475 characters\n🤖 Summarizing using llama3.2...\n📌 Summary generated successfully.\nℹ️ Model llama3.2 session completed. Ollama will manage cleanup automatically.\n\n📰 Title: INDIAai | Pillars\n🧠 Summary:\n The webpage appears to be an official website for a program called \"IndiaAI\" that aims to promote and advance artificial intelligence (AI) in India. The website is organized into various sections, including:\n\n1. **Pillars**: Highlighting the main areas of focus for IndiaAI, such as building scalable AI ecosystems, advancing AI for socio-economic transformation, and promoting responsible AI.\n2. **Resources**: Providing access to research reports, datasets, and tools related to AI.\n3. **Ecosystem**: Describing the ecosystem for AI in India, including initiatives, startups, and companies.\n4. **Sectors**: Covering various sectors where AI is being applied, such as healthcare, finance, education, and agriculture.\n5. **My Account**: Allowing users to manage their account information and uploads.\n\nThe website also includes sections on:\n\n1. **News** and **Articles**: Sharing updates and insights on the latest trends in AI.\n2. **Events**: Listing upcoming events related to AI in India.\n3. **Colleges** and **Countries & Regions**: Providing information on educational institutions and research initiatives around the world.\n4. **Startups** and **Companies**: Showcasing top startup ideas and visionary companies leading AI research and innovation.\n5. **Government of India**: Highlighting initiatives and developments by the Indian government related to AI.\n\nSome notable features include:\n\n1. **IndiaAI Innovation Challenge**: An article promoting an upcoming challenge for innovators to apply their AI solutions.\n2. **Proforma for submission**: A downloadable form for submitting nominations for IndiaAI Fellowship under the IndiaAI Mission.\n3. **Recently Searched**: A section displaying frequently searched topics on the website.\n\nOverall, the website aims to be a comprehensive resource for individuals interested in artificial intelligence and innovation in India.\n"
        }
       ]
      }
     },
     "ae764ae929d64e31a5740810908e71af": {
      "model_module": "@jupyter-widgets/controls",
      "model_module_version": "2.0.0",
      "model_name": "DescriptionStyleModel",
      "state": {
       "description_width": "initial"
      }
     },
     "aff1b83c18784d599cb697079ac632b1": {
      "model_module": "@jupyter-widgets/base",
      "model_module_version": "2.0.0",
      "model_name": "LayoutModel",
      "state": {}
     },
     "b067de02020d471aae97beed855206b0": {
      "model_module": "@jupyter-widgets/base",
      "model_module_version": "2.0.0",
      "model_name": "LayoutModel",
      "state": {}
     },
     "b17567ef60e24c93b29254c249fc9e6a": {
      "model_module": "@jupyter-widgets/output",
      "model_module_version": "1.0.0",
      "model_name": "OutputModel",
      "state": {
       "layout": "IPY_MODEL_ce248ffe537a457c8d653b57e25064fc",
       "outputs": [
        {
         "name": "stdout",
         "output_type": "stream",
         "text": "🔍 Loading: https://indiaai.gov.in/\n✅ Page Loaded: INDIAai | Pillars\n📄 Extracted 5475 characters\n🤖 Summarizing using deepseek-r1:1.5b...\n📌 Summary generated successfully.\nℹ️ Model deepseek-r1:1.5b session completed. Ollama will manage cleanup automatically.\n\n📰 Title: INDIAai | Pillars\n\n📄 Text Preview:\n Pillars\nIndiaAI Portal\nResources\nEcosystem\nSectors\nMy Account\nMy Uploads\nContribute\nLogout\nBack\nIndiaAI Compute Capacity\nBuilding scalable AI ecosystem via public-private partnerships\nIndiaAI Application Development Initiative\nAdvances AI for large-scale socio-economic transformation\nSafe & Trusted AI\nPromoting responsible AI through projects, tools, and governance.\nIndiaAI Innovation Centre\nCreating indigenous LLMs and domain-specific foundational models\nIndiaAI FutureSkills\nAims to expand AI education, establish labs in Tier 2, 3 cities\nIndiaAI Datasets Platform\nAccess to high-quality non-personal datasets for AI innovation\nIndiaAI Startup Financing\nAccelerates AI startups by streamlining access to funding\nAbout us\nContribute\nContact us\nAbout us\nContribute\nContact us\nArticles\nIn-depth and nuanced coverage of leading trends in AI\nResearch Reports\nA collection of the most relevant and critical research in AI today\nVideos\nThe best of AI brought to you in bite-sized videos\nNews\nLatest up ...\n\n🧠 Summary:\n <think>\nAlright, I need to summarize this webpage content. Let me read through it carefully.\n\nThe page starts with a heading \"Pillars\" followed by several sections: Resources, Ecosystem, Sectors, My Account, My Uploads, Contribute, Logout. Then there's a section on IndiaAI Compute Capacity and others. It seems like a landing page for IndiaAI.\n\nI notice that the content is divided into several parts with headings but some text isn't formatted as headers or subheaders. The main topics are:\n\n1. **Pillars**: This suggests the key areas or services of IndiaAI, like compute capacity, application development, innovation centers.\n2. **Resources**: Provides information on resources available to support AI projects and research.\n3. **Ecosystem**: Focuses on building a public-private partnerships ecosystem for scalable AI.\n4. **Sectors**: Highlights sectors where IndiaAI is making an impact, such as socio-economic transformation and responsible AI.\n5. **My Account**: Offers ways to contribute to AI development and funding opportunities.\n6. **Contribute**: Encourages donations or contributions to support projects.\n7. **Logout**: Links users to return after accessing the page.\n\nThere are also several sections discussing specific AI technologies, like LLMs, datasets, startup financing, etc., which show IndiaAI's commitment to diverse AI fields and their applications.\n\nThe user provided a summary that includes all these elements but I need to make sure it covers everything without being redundant. The original summary mentions the main areas of focus, supported by sections on resources, ecosystems, sectors, contributions, and specific AI initiatives.\n\nI should structure this into clear headings: Pillars, Resources, Ecosystem, Sectors, My Account, Contribute, Logout, plus a section on the dedicated article about IndiaAI. The summary should be concise but comprehensive, highlighting key points like their mission in building a scalable public-private AI ecosystem, their specific projects and resources, contributions to different sectors, funding opportunities, and community support.\n\nI need to ensure that each main area is highlighted without making it too lengthy, while including the supporting details where necessary.\n</think>\n\nThe IndiaAI landing page introduces itself as a leading platform dedicated to advancing artificial intelligence through a comprehensive ecosystem. Key sections include:\n\n1. **Pillars**: Focuses on building a scalable public-private AI ecosystem, emphasizing infrastructure and partnerships.\n\n2. **Resources**:\n   - High-quality datasets for innovation.\n   - A robust startup financing network.\n   - Access to research reports and industry insights.\n\n3. **Ecosystem**:\n   - Initiatives in large-scale socio-economic transformation.\n   - Development of LLMs (Large Language Models) and domain-specific foundational models.\n\n4. **Sectors**:\n   - Focuses on AI applications in socio-economic sectors for transformative impact.\n   - Promotes responsible AI practices through projects, tools, and governance.\n\n5. **My Account**: Offers ways to contribute to AI development and access funding opportunities.\n\n6. **Contribute**: Encourages donations or contributions to support initiatives.\n\n7. **Logout**: Links users to return after accessing the page.\n\nIndiaAI's mission is to foster innovation and research in AI through diverse sectors, supported by resources, a strong ecosystem, and community-driven initiatives.\n"
        }
       ]
      }
     },
     "b3037662cd8349e0acbe18a17b8e587d": {
      "model_module": "@jupyter-widgets/controls",
      "model_module_version": "2.0.0",
      "model_name": "ButtonStyleModel",
      "state": {
       "font_family": null,
       "font_size": null,
       "font_style": null,
       "font_variant": null,
       "font_weight": null,
       "text_color": null,
       "text_decoration": null
      }
     },
     "b3d83caa293d48e998f20373a7b4d717": {
      "model_module": "@jupyter-widgets/controls",
      "model_module_version": "2.0.0",
      "model_name": "DropdownModel",
      "state": {
       "_options_labels": [
        "LLaMA 3.2",
        "DeepSeek R1 (1.5B)"
       ],
       "description": "🤖 Model:",
       "index": 0,
       "layout": "IPY_MODEL_61283fa011dd4c45a07b0715829e49ab",
       "style": "IPY_MODEL_ae764ae929d64e31a5740810908e71af"
      }
     },
     "b6c30ad8a57a48f9814e1ec48313a0e3": {
      "model_module": "@jupyter-widgets/controls",
      "model_module_version": "2.0.0",
      "model_name": "DescriptionStyleModel",
      "state": {
       "description_width": "initial"
      }
     },
     "b6dc0dea4ef0474db931fe3592a4ba11": {
      "model_module": "@jupyter-widgets/output",
      "model_module_version": "1.0.0",
      "model_name": "OutputModel",
      "state": {
       "layout": "IPY_MODEL_50d9aadc1dcd4f0c98d6ac1b0ed2322c",
       "outputs": [
        {
         "name": "stdout",
         "output_type": "stream",
         "text": "🔍 Loading: https://www.nytimes.com/\n❌ Error: Message: timeout: Timed out receiving message from renderer: 29.651\n  (Session info: chrome=137.0.7151.104)\nStacktrace:\n\tGetHandleVerifier [0x0x1233783+63299]\n\tGetHandleVerifier [0x0x12337c4+63364]\n\t(No symbol) [0x0x1061113]\n\t(No symbol) [0x0x1051beb]\n\t(No symbol) [0x0x1051921]\n\t(No symbol) [0x0x104f8c4]\n\t(No symbol) [0x0x105038d]\n\t(No symbol) [0x0x105cb99]\n\t(No symbol) [0x0x106e265]\n\t(No symbol) [0x0x1073c96]\n\t(No symbol) [0x0x10509cd]\n\t(No symbol) [0x0x106dfc9]\n\t(No symbol) [0x0x10efd65]\n\t(No symbol) [0x0x10ce376]\n\t(No symbol) [0x0x109d6e0]\n\t(No symbol) [0x0x109e544]\n\tGetHandleVerifier [0x0x148e073+2531379]\n\tGetHandleVerifier [0x0x1489372+2511666]\n\tGetHandleVerifier [0x0x1259efa+220858]\n\tGetHandleVerifier [0x0x124a548+156936]\n\tGetHandleVerifier [0x0x1250c7d+183357]\n\tGetHandleVerifier [0x0x123b6e8+95912]\n\tGetHandleVerifier [0x0x123b890+96336]\n\tGetHandleVerifier [0x0x122666a+9770]\n\tBaseThreadInitThunk [0x0x762a5d49+25]\n\tRtlInitializeExceptionChain [0x0x77d7d09b+107]\n\tRtlGetAppContainerNamedObjectPath [0x0x77d7d021+561]\n\nℹ️ Model llama3.2 session completed. Ollama will manage cleanup automatically.\n\n📰 Title: Error\n🧠 Summary:\n Not enough content to summarize.\n"
        }
       ]
      }
     },
     "c647026049ed40999b67c2c032425196": {
      "model_module": "@jupyter-widgets/output",
      "model_module_version": "1.0.0",
      "model_name": "OutputModel",
      "state": {
       "layout": "IPY_MODEL_d54f051d26aa4de2b004c0e70f5264f2",
       "outputs": [
        {
         "name": "stdout",
         "output_type": "stream",
         "text": "🔍 Loading: https://www.nytimes.com/\n✅ Page Loaded: The New York Times - Breaking News, US News, World News and Videos\n📄 Extracted 8089 characters\n🤖 Summarizing using llama3.2...\n📌 Summary generated successfully.\nℹ️ Model llama3.2 session completed. Ollama will manage cleanup automatically.\n\n📰 Title: The New York Times - Breaking News, US News, World News and Videos\n🧠 Summary:\n The New York Times webpage appears to be current with breaking news on June 16, 2025. Here are the top stories and summaries:\n\n1. **Israel-Iran Conflict**: Israel warned people in Tehran to evacuate part of the city ahead of strikes, targeting military infrastructure in a densely populated district. Earlier, Israel confirmed it had struck the headquarters of Iran's elite Quds Force.\n   Analysis: The conflict may last for weeks, not days, with both countries having little incentive to stop and no obvious route to victory.\n\n2. **Shootings in Minnesota**: A manhunt ended on Sunday after a two-day search for the suspect in the murder of a local lawmaker, Representative Melissa Hortman. Colleagues described her as a pragmatic problem solver who was at once steely and warm.\n   The suspect is expected to face first-degree murder charges.\n\n3. **Social Security Scandal**: An investigation found that Elon Musk's team spread false claims about widespread fraud in Social Security to justify taking over the agency, which led to DOGE pushing for access to sensitive personal data on millions of Americans.\n\n4. **Other News**:\n   - A French weapons show saw walls put up around Israeli displays.\n   - Iran has sustained a series of blows since October 2023.\n   - The Headlines audio segment covered several other topics, including a manhunt and a murder charge.\n"
        }
       ]
      }
     },
     "ce248ffe537a457c8d653b57e25064fc": {
      "model_module": "@jupyter-widgets/base",
      "model_module_version": "2.0.0",
      "model_name": "LayoutModel",
      "state": {}
     },
     "d54f051d26aa4de2b004c0e70f5264f2": {
      "model_module": "@jupyter-widgets/base",
      "model_module_version": "2.0.0",
      "model_name": "LayoutModel",
      "state": {}
     },
     "d593b651bec649898b03a71436c1a360": {
      "model_module": "@jupyter-widgets/base",
      "model_module_version": "2.0.0",
      "model_name": "LayoutModel",
      "state": {}
     },
     "db1f94b6095449b0ae342aef53b2202e": {
      "model_module": "@jupyter-widgets/controls",
      "model_module_version": "2.0.0",
      "model_name": "TextStyleModel",
      "state": {
       "description_width": "initial",
       "font_size": null,
       "text_color": null
      }
     },
     "e625ecdf3e894b95abfaca273716ac81": {
      "model_module": "@jupyter-widgets/controls",
      "model_module_version": "2.0.0",
      "model_name": "ButtonModel",
      "state": {
       "button_style": "success",
       "description": "🚀 Run Scraper & Summarizer",
       "layout": "IPY_MODEL_d593b651bec649898b03a71436c1a360",
       "style": "IPY_MODEL_456bfda2cfd347fba1bad8b38798290a",
       "tooltip": null
      }
     },
     "ffef7ab1f60c4ad98191f14a736966a1": {
      "model_module": "@jupyter-widgets/controls",
      "model_module_version": "2.0.0",
      "model_name": "DescriptionStyleModel",
      "state": {
       "description_width": "initial"
      }
     }
    },
    "version_major": 2,
    "version_minor": 0
   }
  }
 },
 "nbformat": 4,
 "nbformat_minor": 5
}
