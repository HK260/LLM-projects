{
 "cells": [
  {
   "cell_type": "markdown",
   "id": "2d449090-0745-41da-aa72-22a3188e8e8b",
   "metadata": {},
   "source": [
    "# 🌐 WebPage Summarizer\r\n",
    "\r\n",
    "**Overview**  \r\n",
    "This project is a WebPage Summarizer tool that extracts and condenses key information from any given web page. It utilizes cutting-edge open-source large language models to deliver accurate, concise, and context-aware summaries.\r\n",
    "\r\n",
    "---\r\n",
    "\r\n",
    "## 🔍 Models Used\r\n",
    "\r\n",
    "### 1. **LLaMA 3.2**  \r\n",
    "- A powerful and efficient large language model capable of understanding complex web content and producing high-quality natural language summaries.\r\n",
    "\r\n",
    "### 2. **DeepSeek R1:1.5B**  \r\n",
    "- A lightweight yet effective open-source LLM, optimized for faster inference and resource-constrained environments, while still providing meaningful summarization.\r\n",
    "\r\n",
    "---\r\n",
    "\r\n",
    "## ✨ Features\r\n",
    "- Extracts visible text from web pages.\r\n",
    "- Cleans and preprocesses content for LLM input.\r\n",
    "- Generates concise summaries using both m blogs, or documenta\r\n"
   ]
  },
  {
   "cell_type": "code",
   "execution_count": null,
   "id": "7c053ab9-4841-44a0-90aa-fcc604034341",
   "metadata": {},
   "outputs": [],
   "source": [
    "# %pip install selenium webdriver-manager "
   ]
  },
  {
   "cell_type": "code",
   "execution_count": 1,
   "id": "4e33be03-2e0b-4167-8392-d42910aa2587",
   "metadata": {},
   "outputs": [],
   "source": [
    "# ===========================\n",
    "# System & Environment\n",
    "# ===========================\n",
    "import os\n",
    "\n",
    "# ===========================\n",
    "# Web Scraping\n",
    "# ===========================\n",
    "import time\n",
    "from bs4 import BeautifulSoup\n",
    "from selenium import webdriver\n",
    "from selenium.webdriver.chrome.options import Options\n",
    "from selenium.webdriver.chrome.service import Service\n",
    "from webdriver_manager.chrome import ChromeDriverManager\n",
    "\n",
    "# ===========================\n",
    "# AI-related\n",
    "# ===========================\n",
    "import ipywidgets as widgets\n",
    "from IPython.display import display, clear_output\n",
    "from openai import OpenAI\n",
    "import ollama"
   ]
  },
  {
   "cell_type": "code",
   "execution_count": 2,
   "id": "406c53f5-0dd4-4d2f-a459-15c2ab707888",
   "metadata": {},
   "outputs": [],
   "source": [
    "model_OLLama=\"llama3.2\"\n",
    "model_deepseek=\"deepseek-r1:1.5b\""
   ]
  },
  {
   "cell_type": "markdown",
   "id": "78937b12-2e49-49b1-a383-630e63dd10d7",
   "metadata": {},
   "source": [
    "# 🌐 WebScrapping infrastructure"
   ]
  },
  {
   "cell_type": "code",
   "execution_count": 24,
   "id": "e02a00fb-f677-469b-97b8-0b26c4455350",
   "metadata": {},
   "outputs": [
    {
     "data": {
      "application/vnd.jupyter.widget-view+json": {
       "model_id": "a4d66ecd62e8469b85bbbd4914dc9fe0",
       "version_major": 2,
       "version_minor": 0
      },
      "text/plain": [
       "Text(value='https://www.nytimes.com/', description='🌐 URL:', layout=Layout(width='100%'), placeholder='Enter w…"
      ]
     },
     "metadata": {},
     "output_type": "display_data"
    },
    {
     "data": {
      "application/vnd.jupyter.widget-view+json": {
       "model_id": "c4cf3df57d3743179fea05cea70d6494",
       "version_major": 2,
       "version_minor": 0
      },
      "text/plain": [
       "Dropdown(description='🤖 Model:', options=(('LLaMA 3.2', 'llama3.2'), ('DeepSeek R1 (1.5B)', 'deepseek-r1:1.5b'…"
      ]
     },
     "metadata": {},
     "output_type": "display_data"
    },
    {
     "data": {
      "application/vnd.jupyter.widget-view+json": {
       "model_id": "f46a924e67834ee08e1a629f99b87445",
       "version_major": 2,
       "version_minor": 0
      },
      "text/plain": [
       "Button(button_style='success', description='🚀 Run Scraper & Summarizer', style=ButtonStyle())"
      ]
     },
     "metadata": {},
     "output_type": "display_data"
    },
    {
     "data": {
      "application/vnd.jupyter.widget-view+json": {
       "model_id": "bb011bc95b1c47259c3de1da704c3868",
       "version_major": 2,
       "version_minor": 0
      },
      "text/plain": [
       "Output()"
      ]
     },
     "metadata": {},
     "output_type": "display_data"
    }
   ],
   "source": [
    "import time\n",
    "from bs4 import BeautifulSoup\n",
    "from selenium import webdriver\n",
    "from selenium.webdriver.chrome.service import Service\n",
    "from selenium.webdriver.chrome.options import Options\n",
    "from webdriver_manager.chrome import ChromeDriverManager\n",
    "import ollama\n",
    "\n",
    "import ipywidgets as widgets\n",
    "from IPython.display import display, clear_output\n",
    "\n",
    "# --------------------------------\n",
    "# Define the DynamicWebScraper class\n",
    "# --------------------------------\n",
    "class DynamicWebScraper:\n",
    "    def __init__(self, url, model_name):\n",
    "        self.url = url\n",
    "        self.model = model_name  # 'llama3.2' or 'deepseek-r1:1.5b'\n",
    "        self.title = \"\"\n",
    "        self.text = \"\"\n",
    "        self.summary = \"\"\n",
    "        self.scrape()\n",
    "        self.generate_summary()\n",
    "        self.shutdown_model()\n",
    "\n",
    "    def scrape(self):\n",
    "        try:\n",
    "            chrome_options = Options()\n",
    "            chrome_options.add_argument(\"--headless\")\n",
    "            chrome_options.add_argument(\"--no-sandbox\")\n",
    "            chrome_options.add_argument(\"--disable-dev-shm-usage\")\n",
    "            chrome_options.add_argument(\"--disable-gpu\")\n",
    "            chrome_options.add_argument(\"--window-size=1920,1080\")\n",
    "            chrome_options.add_argument(\n",
    "                \"--user-agent=Mozilla/5.0 (Windows NT 10.0; Win64; x64) Chrome/120.0\"\n",
    "            )\n",
    "\n",
    "            driver = webdriver.Chrome(\n",
    "                service=Service(ChromeDriverManager().install()), options=chrome_options\n",
    "            )\n",
    "            driver.set_page_load_timeout(30)\n",
    "\n",
    "            print(f\"🔍 Loading: {self.url}\")\n",
    "            driver.get(self.url)\n",
    "            time.sleep(5)\n",
    "\n",
    "            self.title = driver.title\n",
    "            html = driver.page_source\n",
    "            driver.quit()\n",
    "            print(f\"✅ Page Loaded: {self.title}\")\n",
    "\n",
    "            soup = BeautifulSoup(html, \"html.parser\")\n",
    "            for tag in soup([\"script\", \"style\", \"img\", \"nav\", \"footer\", \"header\", \"input\", \"button\"]):\n",
    "                tag.decompose()\n",
    "\n",
    "            main = soup.find(\"main\") or soup.find(\"article\") or soup.body\n",
    "            raw_text = main.get_text(separator=\"\\n\", strip=True) if main else soup.get_text()\n",
    "\n",
    "            lines = [line.strip() for line in raw_text.split(\"\\n\") if line.strip()]\n",
    "            self.text = \"\\n\".join(lines[:200])\n",
    "            print(f\"📄 Extracted {len(self.text)} characters\")\n",
    "\n",
    "        except Exception as e:\n",
    "            print(f\"❌ Error: {e}\")\n",
    "            self.title = \"Error\"\n",
    "            self.text = \"Could not extract content.\"\n",
    "\n",
    "    def generate_summary(self):\n",
    "        try:\n",
    "            if len(self.text) < 100:\n",
    "                self.summary = \"Not enough content to summarize.\"\n",
    "                return\n",
    "\n",
    "            prompt = f\"Summarize the following webpage content:\\n\\n{self.text[:3000]}\"\n",
    "\n",
    "            print(f\"🤖 Summarizing using {self.model}...\")\n",
    "            response = ollama.chat(model=self.model, messages=[{\"role\": \"user\", \"content\": prompt}])\n",
    "            self.summary = response.get(\"message\", {}).get(\"content\", \"Summary not found.\")\n",
    "            print(f\"📌 Summary generated successfully.\")\n",
    "\n",
    "        except Exception as e:\n",
    "            print(f\"❌ Failed to summarize: {e}\")\n",
    "            self.summary = \"Summary generation failed.\"\n",
    "\n",
    "    def shutdown_model(self):\n",
    "        # Ollama handles model lifecycle automatically\n",
    "        # Models are automatically unloaded when not in use\n",
    "        print(f\"ℹ️ Model {self.model} session completed. Ollama will manage cleanup automatically.\")\n",
    "\n",
    "# --------------------------------\n",
    "# UI Widgets\n",
    "# --------------------------------\n",
    "url_input = widgets.Text(\n",
    "    value='https://www.nytimes.com/',\n",
    "    placeholder='Enter website URL',\n",
    "    description='🌐 URL:',\n",
    "    style={'description_width': 'initial'},\n",
    "    layout=widgets.Layout(width='100%')\n",
    ")\n",
    "\n",
    "model_selector = widgets.Dropdown(\n",
    "    options=[\n",
    "        ('LLaMA 3.2', 'llama3.2'),\n",
    "        ('DeepSeek R1 (1.5B)', 'deepseek-r1:1.5b')\n",
    "    ],\n",
    "    value='llama3.2',\n",
    "    description='🤖 Model:',\n",
    "    style={'description_width': 'initial'}\n",
    ")\n",
    "\n",
    "run_button = widgets.Button(\n",
    "    description='🚀 Run Scraper & Summarizer',\n",
    "    button_style='success'\n",
    ")\n",
    "\n",
    "output = widgets.Output()\n",
    "\n",
    "# --------------------------------\n",
    "# Callback Function\n",
    "# --------------------------------\n",
    "def run_scraper(button):\n",
    "    with output:\n",
    "        clear_output()\n",
    "\n",
    "        url = url_input.value.strip()\n",
    "        model = model_selector.value.strip()\n",
    "\n",
    "        if not url:\n",
    "            print(\"❌ Please enter a valid URL.\")\n",
    "            return\n",
    "\n",
    "        scraper = DynamicWebScraper(url, model)\n",
    "        print(\"\\n📰 Title:\", scraper.title)\n",
    "        print(\"\\n📄 Text Preview:\\n\", scraper.text[:1000], \"...\\n\")\n",
    "        print(\"🧠 Summary:\\n\", scraper.summary)\n",
    "\n",
    "# --------------------------------\n",
    "# Wire the Button\n",
    "# --------------------------------\n",
    "run_button.on_click(run_scraper)\n",
    "\n",
    "# --------------------------------\n",
    "# Display UI\n",
    "# --------------------------------\n",
    "display(url_input, model_selector, run_button, output)"
   ]
  },
  {
   "cell_type": "code",
   "execution_count": null,
   "id": "55d9658e-fc18-4ef5-98b1-83e97cc905af",
   "metadata": {},
   "outputs": [],
   "source": []
  }
 ],
 "metadata": {
  "kernelspec": {
   "display_name": "Python [conda env:llms]",
   "language": "python",
   "name": "conda-env-llms-py"
  },
  "language_info": {
   "codemirror_mode": {
    "name": "ipython",
    "version": 3
   },
   "file_extension": ".py",
   "mimetype": "text/x-python",
   "name": "python",
   "nbconvert_exporter": "python",
   "pygments_lexer": "ipython3",
   "version": "3.11.13"
  },
  "widgets": {
   "application/vnd.jupyter.widget-state+json": {
    "state": {
     "043e92db576a434e914ffe4a4b319e9d": {
      "model_module": "@jupyter-widgets/base",
      "model_module_version": "2.0.0",
      "model_name": "LayoutModel",
      "state": {}
     },
     "1f0baab21433464f816336ecb82d7bc0": {
      "model_module": "@jupyter-widgets/base",
      "model_module_version": "2.0.0",
      "model_name": "LayoutModel",
      "state": {
       "width": "100%"
      }
     },
     "2fc39cdfb5ee4d37abea3634928cee89": {
      "model_module": "@jupyter-widgets/base",
      "model_module_version": "2.0.0",
      "model_name": "LayoutModel",
      "state": {}
     },
     "3d11ba9b9e2644659e32c534d8bca65f": {
      "model_module": "@jupyter-widgets/controls",
      "model_module_version": "2.0.0",
      "model_name": "TextStyleModel",
      "state": {
       "description_width": "initial",
       "font_size": null,
       "text_color": null
      }
     },
     "47913ebc31a54e34ba7c7edc1a3a7473": {
      "model_module": "@jupyter-widgets/controls",
      "model_module_version": "2.0.0",
      "model_name": "DescriptionStyleModel",
      "state": {
       "description_width": "initial"
      }
     },
     "4a938a8151a943f59541c3530d04df94": {
      "model_module": "@jupyter-widgets/base",
      "model_module_version": "2.0.0",
      "model_name": "LayoutModel",
      "state": {}
     },
     "5f5b7b75999e4c0b85535a414c075402": {
      "model_module": "@jupyter-widgets/controls",
      "model_module_version": "2.0.0",
      "model_name": "TextStyleModel",
      "state": {
       "description_width": "initial",
       "font_size": null,
       "text_color": null
      }
     },
     "6e32a2da78d84f3bbfe5d901bb7f2d63": {
      "model_module": "@jupyter-widgets/controls",
      "model_module_version": "2.0.0",
      "model_name": "DescriptionStyleModel",
      "state": {
       "description_width": "initial"
      }
     },
     "7280f31460804c4f8fbd94cfadcc41cb": {
      "model_module": "@jupyter-widgets/controls",
      "model_module_version": "2.0.0",
      "model_name": "TextModel",
      "state": {
       "description": "🌐 URL:",
       "layout": "IPY_MODEL_1f0baab21433464f816336ecb82d7bc0",
       "placeholder": "Enter website URL",
       "style": "IPY_MODEL_5f5b7b75999e4c0b85535a414c075402",
       "value": "https://nalanda-aws.bits-pilani.ac.in/"
      }
     },
     "7429478084274f32ba7abaac10828abc": {
      "model_module": "@jupyter-widgets/base",
      "model_module_version": "2.0.0",
      "model_name": "LayoutModel",
      "state": {}
     },
     "785cd9420d494a328cd947a9fc307911": {
      "model_module": "@jupyter-widgets/base",
      "model_module_version": "2.0.0",
      "model_name": "LayoutModel",
      "state": {}
     },
     "78ef25a844ed4981b6ab0536ee4a9fb1": {
      "model_module": "@jupyter-widgets/output",
      "model_module_version": "1.0.0",
      "model_name": "OutputModel",
      "state": {
       "layout": "IPY_MODEL_785cd9420d494a328cd947a9fc307911",
       "outputs": [
        {
         "name": "stdout",
         "output_type": "stream",
         "text": "🔍 Loading: https://nalanda-aws.bits-pilani.ac.in/\n✅ Page Loaded: Nalanda-LMS\n📄 Extracted 1073 characters\n🤖 Summarizing using llama3.2...\n📌 Summary generated successfully.\n🛑 Shutting down model: llama3.2\n⚠️ Warning: Could not stop model. Reason: module 'ollama' has no attribute 'stop'\n\n📰 Title: Nalanda-LMS\n\n📄 Text Preview:\n Please check “First Time Log in process demonstration video”:\nNalanda_Login_Help.mp4\nVideo Player is loading.\nCurrent Time\n0:00\n/\nDuration\n-:-\nLoaded\n:\n0%\nStream Type\nLIVE\nRemaining Time\n-\n0:00\n1x\nChapters\ndescriptions off\n, selected\ncaptions settings\n, opens captions settings dialog\ncaptions off\n, selected\nThis is a modal window.\nBeginning of dialog window. Escape will cancel and close the window.\nText\nColor\nWhite\nBlack\nRed\nGreen\nBlue\nYellow\nMagenta\nCyan\nTransparency\nOpaque\nSemi-Transparent\nBackground\nColor\nBlack\nWhite\nRed\nGreen\nBlue\nYellow\nMagenta\nCyan\nTransparency\nOpaque\nSemi-Transparent\nTransparent\nWindow\nColor\nBlack\nWhite\nRed\nGreen\nBlue\nYellow\nMagenta\nCyan\nTransparency\nTransparent\nSemi-Transparent\nOpaque\nFont Size\n50%\n75%\n100%\n125%\n150%\n175%\n200%\n300%\n400%\nText Edge Style\nNone\nRaised\nDepressed\nUniform\nDropshadow\nFont Family\nProportional Sans-Serif\nMonospace Sans-Serif\nProportional Serif\nMonospace Serif\nCasual\nScript\nSmall Caps\nEnd of dialog window.\nThank You.\nAdmin Nalanda\nnalanda ...\n\n🧠 Summary:\n This webpage appears to be a video player with the video \"First Time Log in process demonstration\" playing. The video is currently paused, showing various settings and options such as captions, color schemes, font sizes, and styles. There is also a dialog window that opens when clicking on the captions setting, allowing users to customize their caption display preferences.\n"
        }
       ]
      }
     },
     "7d4f8d8e095140338fd5d164b5c06ed4": {
      "model_module": "@jupyter-widgets/base",
      "model_module_version": "2.0.0",
      "model_name": "LayoutModel",
      "state": {
       "width": "100%"
      }
     },
     "984e12abf8fb4876aef0a4607469287b": {
      "model_module": "@jupyter-widgets/controls",
      "model_module_version": "2.0.0",
      "model_name": "ButtonStyleModel",
      "state": {
       "font_family": null,
       "font_size": null,
       "font_style": null,
       "font_variant": null,
       "font_weight": null,
       "text_color": null,
       "text_decoration": null
      }
     },
     "9d3ec5327ae0435fac6af27f5f2952ec": {
      "model_module": "@jupyter-widgets/controls",
      "model_module_version": "2.0.0",
      "model_name": "ButtonModel",
      "state": {
       "button_style": "success",
       "description": "🚀 Run Scraper & Summarizer",
       "layout": "IPY_MODEL_2fc39cdfb5ee4d37abea3634928cee89",
       "style": "IPY_MODEL_ed8de4144ce84ca6b705aa1d83fb8d7d",
       "tooltip": null
      }
     },
     "a4d66ecd62e8469b85bbbd4914dc9fe0": {
      "model_module": "@jupyter-widgets/controls",
      "model_module_version": "2.0.0",
      "model_name": "TextModel",
      "state": {
       "description": "🌐 URL:",
       "layout": "IPY_MODEL_7d4f8d8e095140338fd5d164b5c06ed4",
       "placeholder": "Enter website URL",
       "style": "IPY_MODEL_3d11ba9b9e2644659e32c534d8bca65f",
       "value": "https://upsc.gov.in/index.php"
      }
     },
     "bb011bc95b1c47259c3de1da704c3868": {
      "model_module": "@jupyter-widgets/output",
      "model_module_version": "1.0.0",
      "model_name": "OutputModel",
      "state": {
       "layout": "IPY_MODEL_4a938a8151a943f59541c3530d04df94",
       "outputs": [
        {
         "name": "stdout",
         "output_type": "stream",
         "text": "🔍 Loading: https://upsc.gov.in/index.php\n✅ Page Loaded: Welcome to UPSC | UPSC\n📄 Extracted 1483 characters\n🤖 Summarizing using llama3.2...\n📌 Summary generated successfully.\nℹ️ Model llama3.2 session completed. Ollama will manage cleanup automatically.\n\n📰 Title: Welcome to UPSC | UPSC\n\n📄 Text Preview:\n Skip to main content\n﻿\nSwipe to view\nImportant Notice : New Online Application Portal Launched\nAnnual Calendar 2026\nNotice for 66 Posts of Assistant Public Prosecutor, GNCTD (Advt. No. 03-2025, Vacancy No. 25040308212)\nView all\nAbout Us\nHistorical Perspective\nConstitutional Provisions\nThe Commission\nFunctions\nSecretariat\nDivisions\nCitizen's Charter\nEOP for PwD Employees of UPSC\nDirectory\nMuseum\nVirtual Tour of Museum\nExamination\nCalendar\nTo apply for examinations visit new Application Portal - https://upsconline.nic.in\nForthcoming Examinations\nS.O. - Steno (GD-B-GD-I) LDCE\nEngineering Services (Preliminary) Examination, 2026\nView all >>\nRecruitment\nAdvertisements\nStatus of Lateral Recruitment Cases (Advertisement-wise)\nOnline Recruitment Application (ORA)\nStatus of Recruitment Cases (Advertisement-wise)\nForms for Certificates\nRecruitment Tests\nRecruitment Requisition\nRecruitment cases kept on hold on account of Pending Litigations\nRepresentation on Question Papers\nExamination Notificat ...\n\n🧠 Summary:\n The webpage appears to be the official website of the Union Public Service Commission (UPSC) of India. The content includes:\n\n1. Announcements and updates:\n\t* Launch of a new online application portal for examinations.\n\t* Notification for 66 posts of Assistant Public Prosecutor.\n2. Information about UPSC:\n\t* Historical perspective, constitutional provisions, functions, and secretariat divisions.\n3. Examination-related information:\n\t* Upcoming examinations (S.O. - Steno, Engineering Services Preliminary Examination).\n\t* Application portal link: https://upsconline.nic.in\n4. Recruitment and job vacancies:\n\t* Status of lateral recruitment cases.\n\t* Online application portal for recruitment (ORA).\n\t* Forms for certificates, recruitment tests, and requisition.\n5. Other sections:\n\t* Annual reports, single window system/e-appointment, court judgments, green initiatives, and external links.\n\nOverall, the website provides information on UPSC's activities, examinations, job vacancies, and other relevant topics.\n"
        }
       ]
      }
     },
     "bee09e5fe7914c61be36020507f8719e": {
      "model_module": "@jupyter-widgets/controls",
      "model_module_version": "2.0.0",
      "model_name": "DropdownModel",
      "state": {
       "_options_labels": [
        "LLaMA 3.2",
        "DeepSeek R1 (1.5B)"
       ],
       "description": "🤖 Model:",
       "index": 0,
       "layout": "IPY_MODEL_cc66bc45b2a04782b7b9d0296ccdc73a",
       "style": "IPY_MODEL_6e32a2da78d84f3bbfe5d901bb7f2d63"
      }
     },
     "c4cf3df57d3743179fea05cea70d6494": {
      "model_module": "@jupyter-widgets/controls",
      "model_module_version": "2.0.0",
      "model_name": "DropdownModel",
      "state": {
       "_options_labels": [
        "LLaMA 3.2",
        "DeepSeek R1 (1.5B)"
       ],
       "description": "🤖 Model:",
       "index": 0,
       "layout": "IPY_MODEL_7429478084274f32ba7abaac10828abc",
       "style": "IPY_MODEL_47913ebc31a54e34ba7c7edc1a3a7473"
      }
     },
     "cc66bc45b2a04782b7b9d0296ccdc73a": {
      "model_module": "@jupyter-widgets/base",
      "model_module_version": "2.0.0",
      "model_name": "LayoutModel",
      "state": {}
     },
     "ed8de4144ce84ca6b705aa1d83fb8d7d": {
      "model_module": "@jupyter-widgets/controls",
      "model_module_version": "2.0.0",
      "model_name": "ButtonStyleModel",
      "state": {
       "font_family": null,
       "font_size": null,
       "font_style": null,
       "font_variant": null,
       "font_weight": null,
       "text_color": null,
       "text_decoration": null
      }
     },
     "f46a924e67834ee08e1a629f99b87445": {
      "model_module": "@jupyter-widgets/controls",
      "model_module_version": "2.0.0",
      "model_name": "ButtonModel",
      "state": {
       "button_style": "success",
       "description": "🚀 Run Scraper & Summarizer",
       "layout": "IPY_MODEL_043e92db576a434e914ffe4a4b319e9d",
       "style": "IPY_MODEL_984e12abf8fb4876aef0a4607469287b",
       "tooltip": null
      }
     }
    },
    "version_major": 2,
    "version_minor": 0
   }
  }
 },
 "nbformat": 4,
 "nbformat_minor": 5
}
